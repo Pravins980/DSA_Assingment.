{
 "cells": [
  {
   "cell_type": "markdown",
   "id": "e7630f67",
   "metadata": {},
   "source": [
    "17. Write a function that takes a list of numbers as input and returns a new list containing only the even numbers from the input list. Use list comprehension to solve this problem.\n",
    "\n",
    "Example:\n",
    "\n",
    "Input: [1, 2, 3, 4, 5, 6, 7, 8, 9, 10]\n",
    "\n",
    "Output: [2, 4, 6, 8, 10]\n",
    "        "
   ]
  },
  {
   "cell_type": "code",
   "execution_count": 11,
   "id": "91ba38d2",
   "metadata": {},
   "outputs": [
    {
     "data": {
      "text/plain": [
       "[2, 4, 6, 8, 10]"
      ]
     },
     "execution_count": 11,
     "metadata": {},
     "output_type": "execute_result"
    }
   ],
   "source": [
    "Input1: [1, 2, 3, 4, 5, 6, 7, 8, 9, 10]\n",
    "    \n",
    "def listofnum(input1):\n",
    "    newlist=[]\n",
    "    \n",
    "    for i in input1:\n",
    "        if (i % 2)==0:\n",
    "            newlist.append(i)\n",
    "            \n",
    "    return newlist\n",
    "\n",
    "listofnum([1, 2, 3, 4, 5, 6, 7, 8, 9, 10])"
   ]
  },
  {
   "cell_type": "code",
   "execution_count": null,
   "id": "77e9aad8",
   "metadata": {},
   "outputs": [],
   "source": []
  },
  {
   "cell_type": "markdown",
   "id": "c5a3f67a",
   "metadata": {},
   "source": [
    "18. Implement a decorator function called ‘timer’ that measures the execution time of a function. The ‘timer’ decorator should print the time taken by the decorated function to execute. Use the ‘time’ module in Python to calculate the execution time.\n",
    "\n",
    "Example:\n",
    "\n",
    "import time\n",
    "\n",
    "@timer\n",
    "def my_function():\n",
    "    # Function code goes here\n",
    "    time.sleep(2)\n",
    "\n",
    "my_function()\n",
    "\n",
    "Output:\n",
    "\"Execution time: 2.00123 seconds\"\n",
    "10 points\n"
   ]
  },
  {
   "cell_type": "code",
   "execution_count": 12,
   "id": "f1dda7bb",
   "metadata": {},
   "outputs": [],
   "source": [
    "import time"
   ]
  },
  {
   "cell_type": "code",
   "execution_count": 59,
   "id": "6aa4ad9e",
   "metadata": {},
   "outputs": [],
   "source": [
    "def timer(function):\n",
    "    def weaper (*krgs,**wkrgs):\n",
    "        start_time=time.time\n",
    "        result=function(*krgs,**wkrgs)\n",
    "        end_time=time.time\n",
    "        exicute_time=start_time-end_time\n",
    "        print(f\"Execution time: {exicute_time:.5f} seconds\")\n",
    "    \n",
    "        return result\n",
    "    return weaper\n",
    "    \n",
    "    @timer\n",
    "    def my_function():\n",
    "        time.sleep(2)\n"
   ]
  },
  {
   "cell_type": "code",
   "execution_count": 60,
   "id": "0864311a",
   "metadata": {},
   "outputs": [
    {
     "name": "stdout",
     "output_type": "stream",
     "text": [
      "Execution time: 2.00092 seconds\n"
     ]
    }
   ],
   "source": [
    "my_function()"
   ]
  },
  {
   "cell_type": "code",
   "execution_count": null,
   "id": "4c3b93b3",
   "metadata": {},
   "outputs": [],
   "source": []
  },
  {
   "cell_type": "markdown",
   "id": "f201572f",
   "metadata": {},
   "source": [
    "19. Write a function called ‘calculate_mean’ that takes a list of numbers as input and returns the mean (average) of the numbers. The function should calculate the mean using the sum of the numbers divided by the total count.\n",
    "\n",
    "Example:\n",
    "\n",
    "def calculate_mean(numbers):\n",
    "    total = sum(numbers)\n",
    "    count = len(numbers)\n",
    "    mean = total / count\n",
    "    return mean\n",
    "\n",
    "data = [10, 15, 20, 25, 30]\n",
    "mean_value = calculate_mean(data)\n",
    "print(\"Mean:\", mean_value)\n",
    "\n",
    "Output:\n",
    "Mean: 20.0\n"
   ]
  },
  {
   "cell_type": "code",
   "execution_count": 41,
   "id": "09f973f2",
   "metadata": {},
   "outputs": [],
   "source": [
    "def calculate_mean():\n",
    "    input=[1,2,3,4,5]\n",
    "    mean=sum(input)/len(input)\n",
    "    \n",
    "    return mean\n",
    "\n",
    "result=calculate_mean()\n"
   ]
  },
  {
   "cell_type": "code",
   "execution_count": 42,
   "id": "5e0e5d24",
   "metadata": {},
   "outputs": [
    {
     "name": "stdout",
     "output_type": "stream",
     "text": [
      "3.0\n"
     ]
    }
   ],
   "source": [
    "print(result)"
   ]
  },
  {
   "cell_type": "code",
   "execution_count": null,
   "id": "4e592652",
   "metadata": {},
   "outputs": [],
   "source": []
  },
  {
   "cell_type": "markdown",
   "id": "d04de4ba",
   "metadata": {},
   "source": [
    "20. Write a function called ‘perform_hypothesis_test’ that takes two lists of numbers as input, representing two samples. The function should perform a two-sample t-test and return the p-value. Use the ‘scipy.stats’ module in Python to calculate the t-test and p-value.\n",
    "\n",
    "Example:\n",
    "\n",
    "from scipy import stats\n",
    "\n",
    "def perform_hypothesis_test(sample1, sample2):\n",
    "    t_statistic, p_value = stats.ttest_ind(sample1, sample2)\n",
    "    return p_value\n",
    "\n",
    "sample1 = [5, 10, 15, 20, 25]\n",
    "sample2 = [10, 20, 30, 40, 50]\n",
    "p_value = perform_hypothesis_test(sample1, sample2)\n",
    "print(\"P-value:\", p_value)\n",
    "\n",
    "Output:\n",
    "P-value: 0.1064706396450037"
   ]
  },
  {
   "cell_type": "code",
   "execution_count": 48,
   "id": "2285fd60",
   "metadata": {},
   "outputs": [],
   "source": [
    "from scipy import stats"
   ]
  },
  {
   "cell_type": "code",
   "execution_count": 56,
   "id": "4849b522",
   "metadata": {},
   "outputs": [
    {
     "name": "stdout",
     "output_type": "stream",
     "text": [
      "P_value 0.001052825793366539\n"
     ]
    }
   ],
   "source": [
    "def perform_hypothesis_test(input1,input2):\n",
    "    t_statistic,p_value=stats.ttest_ind(input1,input2)\n",
    "    return p_value\n",
    "    \n",
    "input1=[1,2,3,4,5]\n",
    "input2=[6,7,8,9,10]\n",
    "\n",
    "result=perform_hypothesis_test(input1,input2)\n",
    "print(\"P_value\",result)"
   ]
  },
  {
   "cell_type": "code",
   "execution_count": null,
   "id": "15febf88",
   "metadata": {},
   "outputs": [],
   "source": []
  }
 ],
 "metadata": {
  "kernelspec": {
   "display_name": "Python 3",
   "language": "python",
   "name": "python3"
  },
  "language_info": {
   "codemirror_mode": {
    "name": "ipython",
    "version": 3
   },
   "file_extension": ".py",
   "mimetype": "text/x-python",
   "name": "python",
   "nbconvert_exporter": "python",
   "pygments_lexer": "ipython3",
   "version": "3.8.8"
  }
 },
 "nbformat": 4,
 "nbformat_minor": 5
}
