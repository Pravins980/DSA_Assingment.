{
 "cells": [
  {
   "cell_type": "markdown",
   "id": "8f0edf5e",
   "metadata": {},
   "source": [
    "Move Zeroes\n",
    "Given an integer array nums, move all 0's to the end of it while maintaining the relative order of the non-zero elements.\n",
    "\n",
    "Note that you must do this in-place without making a copy of the array.\n",
    "\n",
    "Example 1:\n",
    "Input: nums = [0,1,0,3,12]\n",
    "Output: [1,3,12,0,0]\n",
    "\n",
    "Example 2:\n",
    "Input: nums = [0]\n",
    "Output: [0]\n",
    "\n",
    "Constraints:\n",
    "a. 1 <= nums.length <= 10^4\n",
    "b. -2^31 <= nums[i] <= 2^31 - 1"
   ]
  },
  {
   "cell_type": "code",
   "execution_count": 19,
   "id": "14d95c1b",
   "metadata": {},
   "outputs": [],
   "source": [
    "def Move_zero(num):# create function of Movezero\n",
    "    \n",
    "    n=len(num)\n",
    "    count_zero=0 #counter for a zero numbers\n",
    "    \n",
    "    # Iterate through the array and move non-zero elements to the front\n",
    "    for i in range(n):\n",
    "        if num[i] != 0:\n",
    "            num[i-count_zero]=num[i]\n",
    "        else:\n",
    "            count_zero += 1\n",
    "        \n",
    "        \n",
    "    # Fill the remaining positions with zeroes\n",
    "    for i in range(n-count_zero,n):\n",
    "        num[i]=0\n",
    "    "
   ]
  },
  {
   "cell_type": "code",
   "execution_count": 22,
   "id": "f5359ba9",
   "metadata": {},
   "outputs": [
    {
     "name": "stdout",
     "output_type": "stream",
     "text": [
      "[1, 3, 12, 0, 0]\n"
     ]
    }
   ],
   "source": [
    "nums1 = [0, 1, 0, 3, 12]\n",
    "Move_zero(nums1)\n",
    "print(nums1)\n",
    "\n"
   ]
  },
  {
   "cell_type": "code",
   "execution_count": 21,
   "id": "5c179cb3",
   "metadata": {},
   "outputs": [
    {
     "name": "stdout",
     "output_type": "stream",
     "text": [
      "[0]\n"
     ]
    }
   ],
   "source": [
    "nums2 = [0]\n",
    "Move_zero(nums2)\n",
    "print(nums2)  # Output: [0]"
   ]
  },
  {
   "cell_type": "code",
   "execution_count": null,
   "id": "4769b446",
   "metadata": {},
   "outputs": [],
   "source": []
  }
 ],
 "metadata": {
  "kernelspec": {
   "display_name": "Python 3",
   "language": "python",
   "name": "python3"
  },
  "language_info": {
   "codemirror_mode": {
    "name": "ipython",
    "version": 3
   },
   "file_extension": ".py",
   "mimetype": "text/x-python",
   "name": "python",
   "nbconvert_exporter": "python",
   "pygments_lexer": "ipython3",
   "version": "3.8.8"
  }
 },
 "nbformat": 4,
 "nbformat_minor": 5
}
