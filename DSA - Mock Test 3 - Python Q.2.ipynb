{
 "cells": [
  {
   "cell_type": "markdown",
   "id": "bc7e58bb",
   "metadata": {},
   "source": [
    "Q.2 Implement a queue using a list in Python. Include the necessary methods such as enqueue, dequeue, and isEmpty.\n"
   ]
  },
  {
   "cell_type": "code",
   "execution_count": 1,
   "id": "57461dc1",
   "metadata": {},
   "outputs": [
    {
     "name": "stdout",
     "output_type": "stream",
     "text": [
      "False\n",
      "1\n",
      "2\n",
      "3\n",
      "True\n"
     ]
    }
   ],
   "source": [
    "\n",
    "class Queue:\n",
    "    def __init__(self):\n",
    "        self.queue = []\n",
    "\n",
    "    def enqueue(self, item):\n",
    "        self.queue.append(item)\n",
    "\n",
    "    def dequeue(self):\n",
    "        if not self.isEmpty():\n",
    "            return self.queue.pop(0)\n",
    "        else:\n",
    "            print(\"Queue is empty. Cannot perform dequeue operation.\")\n",
    "\n",
    "    def isEmpty(self):\n",
    "        return len(self.queue) == 0\n",
    "\n",
    "# Creating a queue object\n",
    "my_queue = Queue()\n",
    "\n",
    "# Enqueuing elements into the queue\n",
    "my_queue.enqueue(1)\n",
    "my_queue.enqueue(2)\n",
    "my_queue.enqueue(3)\n",
    "\n",
    "# Checking if the queue is empty\n",
    "print(my_queue.isEmpty())  # Output: False\n",
    "\n",
    "# Dequeuing elements from the queue\n",
    "print(my_queue.dequeue())  # Output: 1\n",
    "print(my_queue.dequeue())  # Output: 2\n",
    "print(my_queue.dequeue())  # Output: 3\n",
    "\n",
    "# Checking if the queue is empty after dequeuing all elements\n",
    "print(my_queue.isEmpty())  # Output: True\n"
   ]
  },
  {
   "cell_type": "code",
   "execution_count": null,
   "id": "a05f21a7",
   "metadata": {},
   "outputs": [],
   "source": []
  }
 ],
 "metadata": {
  "kernelspec": {
   "display_name": "Python 3",
   "language": "python",
   "name": "python3"
  },
  "language_info": {
   "codemirror_mode": {
    "name": "ipython",
    "version": 3
   },
   "file_extension": ".py",
   "mimetype": "text/x-python",
   "name": "python",
   "nbconvert_exporter": "python",
   "pygments_lexer": "ipython3",
   "version": "3.8.8"
  }
 },
 "nbformat": 4,
 "nbformat_minor": 5
}
