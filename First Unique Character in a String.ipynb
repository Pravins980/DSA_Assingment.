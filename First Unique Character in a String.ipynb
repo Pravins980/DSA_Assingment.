{
 "cells": [
  {
   "cell_type": "markdown",
   "id": "8aadc84b",
   "metadata": {},
   "source": [
    "Given a string s, find the first non-repeating character in it and return its index. If it does not exist, return -1.\n",
    "\n",
    "Example 1:\n",
    "Input: s = \"leetcode\"\n",
    "Output: 0\n",
    "\n",
    "Example 2:\n",
    "Input: s = \"loveleetcode\"\n",
    "Output: 2\n",
    "\n",
    "Example 3:\n",
    "Input: s = \"aabb\"\n",
    "Output: -1\n",
    "\n",
    "Constraints:\n",
    "a. 1 <= s.length <= 10^5\n",
    "b. s consists of only lowercase English letters."
   ]
  },
  {
   "cell_type": "code",
   "execution_count": null,
   "id": "d132a534",
   "metadata": {},
   "outputs": [],
   "source": [
    "def fistuniqchar(s):\n",
    "    \n",
    "    #Finds the index of the first non-repeating character\n",
    "    \n",
    "    count_char={}\n",
    "    \n",
    "    \n",
    "     # Count the occurrences of each character in the string\n",
    "    for i in s:\n",
    "        count_char[i]=count_char.get(i,0)+1\n",
    "        \n",
    "     # Find the index of the first non-repeating character\n",
    "    for j ,i in enumerate(s):\n",
    "        if count_char[i]==1:\n",
    "            return j\n",
    "        \n",
    "        \n",
    "    return -1# If no non-repeating character found"
   ]
  },
  {
   "cell_type": "code",
   "execution_count": 14,
   "id": "51af6c85",
   "metadata": {},
   "outputs": [
    {
     "name": "stdout",
     "output_type": "stream",
     "text": [
      "0\n"
     ]
    }
   ],
   "source": [
    "s1 = \"leetcode\"\n",
    "print(fistuniqchar(s1))"
   ]
  },
  {
   "cell_type": "code",
   "execution_count": 15,
   "id": "50a7a05f",
   "metadata": {},
   "outputs": [
    {
     "name": "stdout",
     "output_type": "stream",
     "text": [
      "2\n"
     ]
    }
   ],
   "source": [
    "s2 = \"loveleetcode\"\n",
    "print(fistuniqchar(s2))"
   ]
  },
  {
   "cell_type": "code",
   "execution_count": 16,
   "id": "920297ec",
   "metadata": {},
   "outputs": [
    {
     "name": "stdout",
     "output_type": "stream",
     "text": [
      "-1\n"
     ]
    }
   ],
   "source": [
    "s3 = \"aabb\"\n",
    "print(fistuniqchar(s3))"
   ]
  }
 ],
 "metadata": {
  "kernelspec": {
   "display_name": "Python 3",
   "language": "python",
   "name": "python3"
  },
  "language_info": {
   "codemirror_mode": {
    "name": "ipython",
    "version": 3
   },
   "file_extension": ".py",
   "mimetype": "text/x-python",
   "name": "python",
   "nbconvert_exporter": "python",
   "pygments_lexer": "ipython3",
   "version": "3.8.8"
  }
 },
 "nbformat": 4,
 "nbformat_minor": 5
}
