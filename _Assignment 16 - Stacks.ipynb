{
 "cells": [
  {
   "cell_type": "markdown",
   "id": "8a8d0fac",
   "metadata": {},
   "source": [
    "<aside>\n",
    "💡 **Question 1**\n",
    "\n",
    "Given an array, for each element find the value of the nearest element to the right which is having a frequency greater than that of the current element. If there does not exist an answer for a position, then make the value ‘-1’.\n",
    "\n",
    "**Examples:**\n",
    "\n",
    "</aside>"
   ]
  },
  {
   "cell_type": "code",
   "execution_count": 20,
   "id": "055dd8a6",
   "metadata": {},
   "outputs": [
    {
     "name": "stdout",
     "output_type": "stream",
     "text": [
      "[-1, 2, -1, 4, 2, 1, -1]\n",
      "[-1, -1, -1, -1, -1, -1]\n",
      "[2, 3, 4, 5, 6, -1]\n"
     ]
    }
   ],
   "source": [
    "from collections import defaultdict\n",
    "\n",
    "def nearest_greater_frequency(array):\n",
    "    frequency = defaultdict(int)\n",
    "    stack = []\n",
    "    result = [-1] * len(array)\n",
    "\n",
    "    for i in range(len(array) - 1, -1, -1):\n",
    "        while stack and frequency[array[i]] >= frequency[array[stack[-1]]]:\n",
    "            stack.pop()\n",
    "\n",
    "        if stack:\n",
    "            result[i] = array[stack[-1]]\n",
    "\n",
    "        stack.append(i)\n",
    "        frequency[array[i]] += 1\n",
    "\n",
    "    return result\n",
    "\n",
    "\n",
    "array1 = [1, 1, 2, 3, 4, 2, 1]\n",
    "print(nearest_greater_frequency(array1))\n",
    "# Output: [2, 2, 2, -1, -1, -1, -1]\n",
    "\n",
    "array2 = [4, 4, 4, 4, 4, 4]\n",
    "print(nearest_greater_frequency(array2))\n",
    "# Output: [-1, -1, -1, -1, -1, -1]\n",
    "\n",
    "array3 = [1, 2, 3, 4, 5, 6]\n",
    "print(nearest_greater_frequency(array3))\n",
    "# Output: [-1, -1, -1, -1, -1, -1]\n"
   ]
  },
  {
   "cell_type": "code",
   "execution_count": null,
   "id": "6adc1ade",
   "metadata": {},
   "outputs": [],
   "source": []
  },
  {
   "cell_type": "markdown",
   "id": "dcd9f2f7",
   "metadata": {},
   "source": [
    "<aside>\n",
    "💡 **Question 2**\n",
    "\n",
    "Given a stack of integers, sort it in ascending order using another temporary stack.\n",
    "\n",
    "**Examples:**\n",
    "\n",
    "</aside>"
   ]
  },
  {
   "cell_type": "code",
   "execution_count": 21,
   "id": "851deb08",
   "metadata": {},
   "outputs": [
    {
     "name": "stdout",
     "output_type": "stream",
     "text": [
      "[9, 7, 5, 2, 1]\n",
      "[10, 8, 6, 4, 3]\n",
      "[5, 4, 3, 2, 1]\n"
     ]
    }
   ],
   "source": [
    "def sort_stack(stack):\n",
    "    temp_stack = []\n",
    "\n",
    "    while stack:\n",
    "        temp = stack.pop()\n",
    "\n",
    "        while temp_stack and temp_stack[-1] > temp:\n",
    "            stack.append(temp_stack.pop())\n",
    "\n",
    "        temp_stack.append(temp)\n",
    "\n",
    "    while temp_stack:\n",
    "        stack.append(temp_stack.pop())\n",
    "\n",
    "    return stack\n",
    "\n",
    "stack1 = [5, 2, 7, 1, 9]\n",
    "print(sort_stack(stack1))\n",
    "# Output: [1, 2, 5, 7, 9]\n",
    "\n",
    "stack2 = [10, 3, 8, 4, 6]\n",
    "print(sort_stack(stack2))\n",
    "# Output: [3, 4, 6, 8, 10]\n",
    "\n",
    "stack3 = [1, 2, 3, 4, 5]\n",
    "print(sort_stack(stack3))\n",
    "# Output: [1, 2, 3, 4, 5]\n"
   ]
  },
  {
   "cell_type": "code",
   "execution_count": null,
   "id": "1f1ef197",
   "metadata": {},
   "outputs": [],
   "source": []
  },
  {
   "cell_type": "markdown",
   "id": "588d9d0a",
   "metadata": {},
   "source": [
    "<aside>\n",
    "💡 **Question 3**\n",
    "\n",
    "Given a stack with **push()**, **pop()**, and **empty()** operations, The task is to delete the **middle** element ****of it without using any additional data structure.\n",
    "\n",
    "Input  : Stack[] = [1, 2, 3, 4, 5]\n",
    "\n",
    "Output : Stack[] = [1, 2, 4, 5]\n",
    "\n",
    "Input  : Stack[] = [1, 2, 3, 4, 5, 6]\n",
    "\n",
    "Output : Stack[] = [1, 2, 4, 5, 6]\n",
    "\n",
    "</aside>"
   ]
  },
  {
   "cell_type": "code",
   "execution_count": 22,
   "id": "a3ebeaa2",
   "metadata": {},
   "outputs": [
    {
     "name": "stdout",
     "output_type": "stream",
     "text": [
      "[1, 2, 4, 5]\n",
      "[1, 2, 4, 5, 6]\n"
     ]
    }
   ],
   "source": [
    "def delete_middle(stack, index):\n",
    "    if index == mid:\n",
    "        stack.pop()\n",
    "        return\n",
    "\n",
    "    temp = stack.pop()\n",
    "    delete_middle(stack, index + 1)\n",
    "    stack.append(temp)\n",
    "\n",
    "\n",
    "def delete_middle_element(stack):\n",
    "    size = len(stack)\n",
    "    global mid\n",
    "    mid = size // 2\n",
    "\n",
    "    delete_middle(stack, 0)\n",
    "    return stack\n",
    "\n",
    "stack1 = [1, 2, 3, 4, 5]\n",
    "print(delete_middle_element(stack1))\n",
    "# Output: [1, 2, 4, 5]\n",
    "\n",
    "stack2 = [1, 2, 3, 4, 5, 6]\n",
    "print(delete_middle_element(stack2))\n",
    "# Output: [1, 2, 4, 5, 6]\n"
   ]
  },
  {
   "cell_type": "code",
   "execution_count": null,
   "id": "d8f7d8d6",
   "metadata": {},
   "outputs": [],
   "source": []
  },
  {
   "cell_type": "markdown",
   "id": "ddc0d8c2",
   "metadata": {},
   "source": [
    "<aside>\n",
    "💡 **Question 4**\n",
    "\n",
    "Given a Queue consisting of first **n** natural numbers (in random order). The task is to check whether the given Queue elements can be arranged in increasing order in another Queue using a stack. The operation allowed are:\n",
    "\n",
    "1. Push and pop elements from the stack\n",
    "2. Pop (Or Dequeue) from the given Queue.\n",
    "3. Push (Or Enqueue) in the another Queue.\n",
    "\n",
    "**Examples :**\n",
    "\n",
    "Input : Queue[] = { 5, 1, 2, 3, 4 } \n",
    "\n",
    "Output : Yes \n",
    "\n",
    "Pop the first element of the given Queue \n",
    "\n",
    "i.e 5. Push 5 into the stack. \n",
    "\n",
    "Now, pop all the elements of the given Queue and push them to second Queue. \n",
    "\n",
    "Now, pop element 5 in the stack and push it to the second Queue.   \n",
    "\n",
    "Input : Queue[] = { 5, 1, 2, 6, 3, 4 } \n",
    "\n",
    "Output : No \n",
    "\n",
    "Push 5 to stack. \n",
    "\n",
    "Pop 1, 2 from given Queue and push it to another Queue. \n",
    "\n",
    "Pop 6 from given Queue and push to stack. \n",
    "\n",
    "Pop 3, 4 from given Queue and push to second Queue. \n",
    "\n",
    "Now, from using any of above operation, we cannot push 5 into the second Queue because it is below the 6 in the stack.\n",
    "\n",
    "</aside>"
   ]
  },
  {
   "cell_type": "code",
   "execution_count": 23,
   "id": "4c611008",
   "metadata": {},
   "outputs": [
    {
     "name": "stdout",
     "output_type": "stream",
     "text": [
      "Yes\n",
      "No\n"
     ]
    }
   ],
   "source": [
    "from collections import deque\n",
    "\n",
    "def check_queue_order(queue):\n",
    "    stack = []\n",
    "    second_queue = deque()\n",
    "    expected = 1\n",
    "\n",
    "    while queue:\n",
    "        if queue[0] == expected:\n",
    "            second_queue.append(queue.popleft())\n",
    "            expected += 1\n",
    "        elif stack and stack[-1] == expected:\n",
    "            second_queue.append(stack.pop())\n",
    "            expected += 1\n",
    "        else:\n",
    "            stack.append(queue.popleft())\n",
    "\n",
    "    while stack:\n",
    "        if stack[-1] == expected:\n",
    "            second_queue.append(stack.pop())\n",
    "            expected += 1\n",
    "        else:\n",
    "            return \"No\"\n",
    "\n",
    "    return \"Yes\"\n",
    "\n",
    "queue1 = deque([5, 1, 2, 3, 4])\n",
    "print(check_queue_order(queue1))\n",
    "# Output: Yes\n",
    "\n",
    "queue2 = deque([5, 1, 2, 6, 3, 4])\n",
    "print(check_queue_order(queue2))\n",
    "# Output: No\n"
   ]
  },
  {
   "cell_type": "code",
   "execution_count": null,
   "id": "f0b6ff0e",
   "metadata": {},
   "outputs": [],
   "source": []
  },
  {
   "cell_type": "markdown",
   "id": "134ee15e",
   "metadata": {},
   "source": [
    "<aside>\n",
    "💡 **Question 5**\n",
    "\n",
    "Given a number , write a program to reverse this number using stack.\n",
    "\n",
    "**Examples:**\n",
    "\n",
    "</aside>"
   ]
  },
  {
   "cell_type": "code",
   "execution_count": 24,
   "id": "6de524a5",
   "metadata": {},
   "outputs": [
    {
     "name": "stdout",
     "output_type": "stream",
     "text": [
      "54321\n",
      "123456789\n",
      "1001\n"
     ]
    }
   ],
   "source": [
    "def reverse_number(number):\n",
    "    number_str = str(number)\n",
    "    stack = []\n",
    "\n",
    "    for char in number_str:\n",
    "        stack.append(char)\n",
    "\n",
    "    reversed_str = \"\"\n",
    "    while stack:\n",
    "        reversed_str += stack.pop()\n",
    "\n",
    "    reversed_number = int(reversed_str)\n",
    "\n",
    "    return reversed_number\n",
    "\n",
    "number1 = 12345\n",
    "print(reverse_number(number1))\n",
    "# Output: 54321\n",
    "\n",
    "number2 = 987654321\n",
    "print(reverse_number(number2))\n",
    "# Output: 123456789\n",
    "\n",
    "number3 = 1001\n",
    "print(reverse_number(number3))\n",
    "# Output: 1001\n"
   ]
  },
  {
   "cell_type": "code",
   "execution_count": null,
   "id": "6c730c71",
   "metadata": {},
   "outputs": [],
   "source": []
  },
  {
   "cell_type": "markdown",
   "id": "5c6923a6",
   "metadata": {},
   "source": [
    "<aside>\n",
    "💡 **Question 6**\n",
    "\n",
    "Given an integer k and a **[queue](https://www.geeksforgeeks.org/queue-data-structure/)** of integers, The task is to reverse the order of the first **k** elements of the queue, leaving the other elements in the same relative order.\n",
    "\n",
    "Only following standard operations are allowed on queue.\n",
    "\n",
    "- **enqueue(x) :** Add an item x to rear of queue\n",
    "- **dequeue() :** Remove an item from front of queue\n",
    "- **size() :** Returns number of elements in queue.\n",
    "- **front() :** Finds front item.\n",
    "</aside>"
   ]
  },
  {
   "cell_type": "code",
   "execution_count": 25,
   "id": "2f10e54d",
   "metadata": {},
   "outputs": [
    {
     "name": "stdout",
     "output_type": "stream",
     "text": [
      "3\n",
      "2\n",
      "1\n",
      "4\n",
      "5\n"
     ]
    }
   ],
   "source": [
    "from queue import Queue\n",
    "\n",
    "def reverse_k_elements(queue, k):\n",
    "    stack = []\n",
    "    for _ in range(k):\n",
    "        stack.append(queue.get())\n",
    "\n",
    "    temp_queue = Queue()\n",
    "    while stack:\n",
    "        temp_queue.put(stack.pop())\n",
    "\n",
    "    while not queue.empty():\n",
    "        temp_queue.put(queue.get())\n",
    "\n",
    "    return temp_queue\n",
    "\n",
    "queue = Queue()\n",
    "queue.put(1)\n",
    "queue.put(2)\n",
    "queue.put(3)\n",
    "queue.put(4)\n",
    "queue.put(5)\n",
    "\n",
    "k = 3\n",
    "reversed_queue = reverse_k_elements(queue, k)\n",
    "\n",
    "# Printing the elements of the reversed queue\n",
    "while not reversed_queue.empty():\n",
    "    print(reversed_queue.get())\n",
    "# Output: 3, 2, 1, 4, 5\n"
   ]
  },
  {
   "cell_type": "code",
   "execution_count": null,
   "id": "e2e198c7",
   "metadata": {},
   "outputs": [],
   "source": []
  },
  {
   "cell_type": "markdown",
   "id": "4ae0df76",
   "metadata": {},
   "source": [
    "<aside>\n",
    "💡 **Question 7**\n",
    "\n",
    "Given a sequence of n strings, the task is to check if any two similar words come together and then destroy each other then print the number of words left in the sequence after this pairwise destruction.\n",
    "\n",
    "**Examples:**\n",
    "\n",
    "Input : ab aa aa bcd ab\n",
    "\n",
    "Output : 3\n",
    "\n",
    "*As aa, aa destroys each other so,*\n",
    "\n",
    "*ab bcd ab is the new sequence.*\n",
    "\n",
    "Input :  tom jerry jerry tom\n",
    "\n",
    "Output : 0\n",
    "\n",
    "*As first both jerry will destroy each other.*\n",
    "\n",
    "*Then sequence will be tom, tom they will also destroy*\n",
    "\n",
    "*each other. So, the final sequence doesn’t contain any*\n",
    "\n",
    "*word.*\n",
    "\n",
    "</aside>"
   ]
  },
  {
   "cell_type": "code",
   "execution_count": 26,
   "id": "ac5c4053",
   "metadata": {},
   "outputs": [
    {
     "name": "stdout",
     "output_type": "stream",
     "text": [
      "3\n",
      "0\n"
     ]
    }
   ],
   "source": [
    "def count_words_left(sequence):\n",
    "    stack = []\n",
    "\n",
    "    words = sequence.split()\n",
    "\n",
    "    for word in words:\n",
    "        if stack and stack[-1] == word:\n",
    "            stack.pop()\n",
    "        else:\n",
    "            stack.append(word)\n",
    "\n",
    "    return len(stack)\n",
    "\n",
    "sequence1 = \"ab aa aa bcd ab\"\n",
    "print(count_words_left(sequence1))\n",
    "# Output: 3\n",
    "\n",
    "sequence2 = \"tom jerry jerry tom\"\n",
    "print(count_words_left(sequence2))\n",
    "# Output: 0\n"
   ]
  },
  {
   "cell_type": "code",
   "execution_count": null,
   "id": "85afddc7",
   "metadata": {},
   "outputs": [],
   "source": []
  },
  {
   "cell_type": "markdown",
   "id": "cc269e6f",
   "metadata": {},
   "source": [
    "<aside>\n",
    "💡 **Question 8**\n",
    "\n",
    "Given an array of integers, the task is to find the maximum absolute difference between the nearest left and the right smaller element of every element in the array.\n",
    "\n",
    "**Note:** If there is no smaller element on right side or left side of any element then we take zero as the smaller element. For example for the leftmost element, the nearest smaller element on the left side is considered as 0. Similarly, for rightmost elements, the smaller element on the right side is considered as 0.\n",
    "\n",
    "**Examples:**\n",
    "\n",
    "</aside>"
   ]
  },
  {
   "cell_type": "code",
   "execution_count": 28,
   "id": "f14f8943",
   "metadata": {},
   "outputs": [
    {
     "ename": "KeyboardInterrupt",
     "evalue": "",
     "output_type": "error",
     "traceback": [
      "\u001b[1;31m---------------------------------------------------------------------------\u001b[0m",
      "\u001b[1;31mKeyboardInterrupt\u001b[0m                         Traceback (most recent call last)",
      "Cell \u001b[1;32mIn[28], line 29\u001b[0m\n\u001b[0;32m     25\u001b[0m     \u001b[38;5;28;01mreturn\u001b[39;00m max_diff\n\u001b[0;32m     28\u001b[0m arr1 \u001b[38;5;241m=\u001b[39m [\u001b[38;5;241m2\u001b[39m, \u001b[38;5;241m1\u001b[39m, \u001b[38;5;241m8\u001b[39m]\n\u001b[1;32m---> 29\u001b[0m \u001b[38;5;28mprint\u001b[39m(\u001b[43mmax_absolute_difference\u001b[49m\u001b[43m(\u001b[49m\u001b[43marr1\u001b[49m\u001b[43m)\u001b[49m)\n\u001b[0;32m     30\u001b[0m \u001b[38;5;66;03m# Output: 7\u001b[39;00m\n\u001b[0;32m     32\u001b[0m arr2 \u001b[38;5;241m=\u001b[39m [\u001b[38;5;241m7\u001b[39m, \u001b[38;5;241m9\u001b[39m, \u001b[38;5;241m5\u001b[39m, \u001b[38;5;241m6\u001b[39m, \u001b[38;5;241m3\u001b[39m, \u001b[38;5;241m2\u001b[39m]\n",
      "Cell \u001b[1;32mIn[28], line 9\u001b[0m, in \u001b[0;36mmax_absolute_difference\u001b[1;34m(arr)\u001b[0m\n\u001b[0;32m      7\u001b[0m \u001b[38;5;28;01mfor\u001b[39;00m i \u001b[38;5;129;01min\u001b[39;00m \u001b[38;5;28mrange\u001b[39m(\u001b[38;5;241m1\u001b[39m, n):\n\u001b[0;32m      8\u001b[0m     j \u001b[38;5;241m=\u001b[39m i \u001b[38;5;241m-\u001b[39m \u001b[38;5;241m1\u001b[39m\n\u001b[1;32m----> 9\u001b[0m     \u001b[38;5;28;01mwhile\u001b[39;00m j \u001b[38;5;241m>\u001b[39m\u001b[38;5;241m=\u001b[39m \u001b[38;5;241m0\u001b[39m \u001b[38;5;129;01mand\u001b[39;00m \u001b[43marr\u001b[49m\u001b[43m[\u001b[49m\u001b[43mj\u001b[49m\u001b[43m]\u001b[49m\u001b[43m \u001b[49m\u001b[38;5;241;43m>\u001b[39;49m\u001b[38;5;241;43m=\u001b[39;49m\u001b[43m \u001b[49m\u001b[43marr\u001b[49m\u001b[43m[\u001b[49m\u001b[43mi\u001b[49m\u001b[43m]\u001b[49m:\n\u001b[0;32m     10\u001b[0m         j \u001b[38;5;241m=\u001b[39m left_smaller[j]\n\u001b[0;32m     11\u001b[0m     left_smaller[i] \u001b[38;5;241m=\u001b[39m j\n",
      "\u001b[1;31mKeyboardInterrupt\u001b[0m: "
     ]
    }
   ],
   "source": [
    "def max_absolute_difference(arr):\n",
    "    n = len(arr)\n",
    "    left_smaller = [0] * n\n",
    "    right_smaller = [0] * n\n",
    "\n",
    "    left_smaller[0] = 0\n",
    "    for i in range(1, n):\n",
    "        j = i - 1\n",
    "        while j >= 0 and arr[j] >= arr[i]:\n",
    "            j = left_smaller[j]\n",
    "        left_smaller[i] = j\n",
    "\n",
    "    right_smaller[n - 1] = 0\n",
    "    for i in range(n - 2, -1, -1):\n",
    "        j = i + 1\n",
    "        while j < n and arr[j] >= arr[i]:\n",
    "            j = right_smaller[j]\n",
    "        right_smaller[i] = j\n",
    "\n",
    "    max_diff = float('-inf')\n",
    "    for i in range(n):\n",
    "        diff = abs(arr[left_smaller[i]] - arr[right_smaller[i]])\n",
    "        max_diff = max(max_diff, diff)\n",
    "\n",
    "    return max_diff\n",
    "\n",
    "\n",
    "arr1 = [2, 1, 8]\n",
    "print(max_absolute_difference(arr1))\n",
    "# Output: 7\n",
    "\n",
    "arr2 = [7, 9, 5, 6, 3, 2]\n",
    "print(max_absolute_difference(arr2))\n",
    "# Output: 4\n",
    "\n",
    "arr3 = [5, 1, 9, 2, 3, 5]\n",
    "print(max_absolute_difference(arr3))\n",
    "# Output: 8\n"
   ]
  },
  {
   "cell_type": "code",
   "execution_count": null,
   "id": "a070a543",
   "metadata": {},
   "outputs": [],
   "source": []
  },
  {
   "cell_type": "code",
   "execution_count": null,
   "id": "f51efba6",
   "metadata": {},
   "outputs": [],
   "source": []
  }
 ],
 "metadata": {
  "kernelspec": {
   "display_name": "Python 3",
   "language": "python",
   "name": "python3"
  },
  "language_info": {
   "codemirror_mode": {
    "name": "ipython",
    "version": 3
   },
   "file_extension": ".py",
   "mimetype": "text/x-python",
   "name": "python",
   "nbconvert_exporter": "python",
   "pygments_lexer": "ipython3",
   "version": "3.8.8"
  }
 },
 "nbformat": 4,
 "nbformat_minor": 5
}
