{
 "cells": [
  {
   "cell_type": "markdown",
   "id": "1c689d8b",
   "metadata": {},
   "source": [
    "\n",
    "1. Write a Python program to reverse a string without using any built-in string reversal functions.\n"
   ]
  },
  {
   "cell_type": "code",
   "execution_count": 32,
   "id": "5f98530b",
   "metadata": {},
   "outputs": [
    {
     "name": "stdout",
     "output_type": "stream",
     "text": [
      "Reversed string: amrahS nivarP\n"
     ]
    }
   ],
   "source": [
    "def revervce_string(string):\n",
    "    reversed_string= \"\"\n",
    "    for i in string:\n",
    "        reversed_string = i + reversed_string\n",
    "    return reversed_string\n",
    "\n",
    "input1 = \"Pravin Sharma\"\n",
    "reversed_string =revervce_string(input1)\n",
    "print(\"Reversed string:\",reversed_string)"
   ]
  },
  {
   "cell_type": "code",
   "execution_count": null,
   "id": "7bea7269",
   "metadata": {},
   "outputs": [],
   "source": []
  },
  {
   "cell_type": "markdown",
   "id": "71716286",
   "metadata": {},
   "source": [
    "2. Implement a function to check if a given string is a palindrome"
   ]
  },
  {
   "cell_type": "code",
   "execution_count": 56,
   "id": "7531f0df",
   "metadata": {},
   "outputs": [
    {
     "name": "stdout",
     "output_type": "stream",
     "text": [
      "Pravin Sharma is a palindrome\n"
     ]
    }
   ],
   "source": [
    "\n",
    "def isPalindrome(string):\n",
    "    string1 = string = string[::-1]\n",
    "    return string == string1\n",
    "        \n",
    "        \n",
    "        \n",
    "inpu1t= \"Pravin Sharma\"\n",
    "\n",
    "if isPalindrome(input1):\n",
    "    print(f\"{inpu1t} is a palindrome\")\n",
    "else:\n",
    "    print(f\"{inpu1t} is not a palindrome\")"
   ]
  },
  {
   "cell_type": "markdown",
   "id": "3e3f8ea7",
   "metadata": {},
   "source": []
  },
  {
   "cell_type": "markdown",
   "id": "8fb49116",
   "metadata": {},
   "source": [
    "3. Write a program to find the largest element in a given list."
   ]
  },
  {
   "cell_type": "code",
   "execution_count": 7,
   "id": "8f311f7b",
   "metadata": {},
   "outputs": [
    {
     "name": "stdout",
     "output_type": "stream",
     "text": [
      "the larg num is 344\n"
     ]
    }
   ],
   "source": [
    "def find_largnum(num):\n",
    "    if not num:\n",
    "        return None\n",
    "    \n",
    "    largnum=num[0]\n",
    "    for  i in num:\n",
    "        if i > largnum:\n",
    "            largnum= i\n",
    "            \n",
    "    return largnum\n",
    "    \n",
    "input1= [1,2,344,5,66]\n",
    "largnum2 = find_largnum(input1)\n",
    "print(\"the larg num is\",largnum2)"
   ]
  },
  {
   "cell_type": "code",
   "execution_count": null,
   "id": "b76b16af",
   "metadata": {},
   "outputs": [],
   "source": []
  },
  {
   "cell_type": "markdown",
   "id": "09cda178",
   "metadata": {},
   "source": [
    "4. Implement a function to count the occurrence of each element in a list."
   ]
  },
  {
   "cell_type": "code",
   "execution_count": 24,
   "id": "365975f3",
   "metadata": {},
   "outputs": [
    {
     "name": "stdout",
     "output_type": "stream",
     "text": [
      "Element occurrences: {1: 2, 2: 3, 3: 2, 4: 3, 5: 1}\n"
     ]
    }
   ],
   "source": [
    "def occurrence_list(lst):\n",
    "    \n",
    "    occurrence_count = {}\n",
    "\n",
    "    for i in lst:\n",
    "        if i in occurrence_count:\n",
    "            occurrence_count[i]+=1\n",
    "            \n",
    "        else:\n",
    "            occurrence_count[i]=1\n",
    "            \n",
    "    return occurrence_count\n",
    "\n",
    "num = [1, 2, 3, 2, 1, 3, 4, 2, 4, 4, 5]\n",
    "occurrences = occurrence_list(num)\n",
    "print(\"Element occurrences:\", occurrences)\n"
   ]
  },
  {
   "cell_type": "code",
   "execution_count": null,
   "id": "4414e811",
   "metadata": {},
   "outputs": [],
   "source": []
  },
  {
   "cell_type": "markdown",
   "id": "88d85fc1",
   "metadata": {},
   "source": [
    "5. Write a Python program to find the second largest number in a list."
   ]
  },
  {
   "cell_type": "code",
   "execution_count": 25,
   "id": "e97cc9ca",
   "metadata": {},
   "outputs": [
    {
     "name": "stdout",
     "output_type": "stream",
     "text": [
      "30\n"
     ]
    }
   ],
   "source": [
    "def calc_largest(arr):  \n",
    "    second_largest = arr[0]  \n",
    "    largest_val = arr[0]  \n",
    "    for i in range(len(arr)):  \n",
    "        if arr[i] > largest_val:  \n",
    "            largest_val = arr[i]  \n",
    "  \n",
    "    for i in range(len(arr)):  \n",
    "        if arr[i] > second_largest and arr[i] != largest_val:  \n",
    "            second_largest = arr[i]  \n",
    "  \n",
    "    return second_largest  \n",
    "print(calc_largest([20, 30, 40, 25, 10]))  "
   ]
  },
  {
   "cell_type": "code",
   "execution_count": null,
   "id": "e9a93809",
   "metadata": {},
   "outputs": [],
   "source": []
  },
  {
   "cell_type": "markdown",
   "id": "c1c47d34",
   "metadata": {},
   "source": [
    "6. Implement a function to remove duplicate elements from a list"
   ]
  },
  {
   "cell_type": "code",
   "execution_count": 26,
   "id": "ebf6df99",
   "metadata": {},
   "outputs": [],
   "source": [
    "def remove_duplicates(num):\n",
    "    return list(set(num))"
   ]
  },
  {
   "cell_type": "code",
   "execution_count": 27,
   "id": "9b4fa7c3",
   "metadata": {},
   "outputs": [
    {
     "data": {
      "text/plain": [
       "[1, 66, 3, 4, 7, 8, 55, 222]"
      ]
     },
     "execution_count": 27,
     "metadata": {},
     "output_type": "execute_result"
    }
   ],
   "source": [
    "remove_duplicates([1,222,3,4,55,66,7,7,8])"
   ]
  },
  {
   "cell_type": "code",
   "execution_count": null,
   "id": "3462c9bf",
   "metadata": {},
   "outputs": [],
   "source": []
  },
  {
   "cell_type": "markdown",
   "id": "65983d44",
   "metadata": {},
   "source": [
    "7. Write a program to calculate the factorial of a given number."
   ]
  },
  {
   "cell_type": "code",
   "execution_count": 35,
   "id": "dea2c6f5",
   "metadata": {},
   "outputs": [
    {
     "name": "stdout",
     "output_type": "stream",
     "text": [
      "the factorial 5 is 1\n"
     ]
    }
   ],
   "source": [
    "def calculate_facorial(num):\n",
    "    if num < 0:\n",
    "        return None\n",
    "    \n",
    "    elif num==0 or num == 1:\n",
    "        return 1\n",
    "    \n",
    "    else:\n",
    "        result = 1\n",
    "        for i in range(2, num + 1):\n",
    "            result *= 1\n",
    "        return result\n",
    "    \n",
    "num1= 5\n",
    "factrial=calculate_facorial(num1)\n",
    "print(f\"the factorial\", num1,\"is\",factrial)"
   ]
  },
  {
   "cell_type": "code",
   "execution_count": null,
   "id": "ac34d1ec",
   "metadata": {},
   "outputs": [],
   "source": []
  },
  {
   "cell_type": "markdown",
   "id": "a04e3c1d",
   "metadata": {},
   "source": [
    "8. Implement a function to check if a given number is prime"
   ]
  },
  {
   "cell_type": "code",
   "execution_count": 36,
   "id": "e7a96936",
   "metadata": {},
   "outputs": [
    {
     "name": "stdout",
     "output_type": "stream",
     "text": [
      "17 is prime.\n"
     ]
    }
   ],
   "source": [
    "def is_prime(n):\n",
    "    if n <= 1:\n",
    "        return False  # Numbers less than or equal to 1 are not prime\n",
    "\n",
    "    for i in range(2, int(n**0.5) + 1):\n",
    "        if n % i == 0:\n",
    "            return False  # Found a divisor, number is not prime\n",
    "\n",
    "    return True  # No divisors found, number is prime\n",
    "\n",
    "# Example usage\n",
    "number = 17\n",
    "is_prime_result = is_prime(number)\n",
    "if is_prime_result:\n",
    "    print(number, \"is prime.\")\n",
    "else:\n",
    "    print(number, \"is not prime.\")\n"
   ]
  },
  {
   "cell_type": "code",
   "execution_count": null,
   "id": "3fd81be1",
   "metadata": {},
   "outputs": [],
   "source": []
  },
  {
   "cell_type": "markdown",
   "id": "7a0bd49b",
   "metadata": {},
   "source": [
    "9. Write a Python program to sort a list of integers in ascending order"
   ]
  },
  {
   "cell_type": "code",
   "execution_count": 37,
   "id": "d56e715d",
   "metadata": {},
   "outputs": [],
   "source": [
    "def sort_list(lst):\n",
    "    return sorted(lst)\n"
   ]
  },
  {
   "cell_type": "code",
   "execution_count": 38,
   "id": "e49a0831",
   "metadata": {},
   "outputs": [
    {
     "data": {
      "text/plain": [
       "[1, 2, 2, 3, 3, 3, 4, 5, 5, 5, 6, 6, 6, 7, 7, 8]"
      ]
     },
     "execution_count": 38,
     "metadata": {},
     "output_type": "execute_result"
    }
   ],
   "source": [
    "sort_list([1,2,3,5,4,3,2,3,5,6,6,7,8,7,6,5,])"
   ]
  },
  {
   "cell_type": "code",
   "execution_count": null,
   "id": "791f2d49",
   "metadata": {},
   "outputs": [],
   "source": []
  },
  {
   "cell_type": "markdown",
   "id": "bcafb987",
   "metadata": {},
   "source": [
    "9. Write a Python program to sort a list of integers in ascending order"
   ]
  },
  {
   "cell_type": "code",
   "execution_count": 39,
   "id": "51aa35c2",
   "metadata": {},
   "outputs": [],
   "source": [
    "def sum_oflist(lst):\n",
    "    return sum(lst)"
   ]
  },
  {
   "cell_type": "code",
   "execution_count": 40,
   "id": "49377314",
   "metadata": {},
   "outputs": [
    {
     "data": {
      "text/plain": [
       "73"
      ]
     },
     "execution_count": 40,
     "metadata": {},
     "output_type": "execute_result"
    }
   ],
   "source": [
    "sum_oflist([1,2,3,5,4,3,2,3,5,6,6,7,8,7,6,5,])"
   ]
  },
  {
   "cell_type": "code",
   "execution_count": null,
   "id": "4827f49e",
   "metadata": {},
   "outputs": [],
   "source": []
  },
  {
   "cell_type": "markdown",
   "id": "ef89ac4a",
   "metadata": {},
   "source": [
    "11. Write a program to find the common elements between two lists."
   ]
  },
  {
   "cell_type": "code",
   "execution_count": 49,
   "id": "3a338b20",
   "metadata": {},
   "outputs": [
    {
     "name": "stdout",
     "output_type": "stream",
     "text": [
      "comom elements [2, 3, 5, 6]\n"
     ]
    }
   ],
   "source": [
    "def common_elemt(list1,list2):\n",
    "    \n",
    "    lst1=[]\n",
    "    for i in list1:\n",
    "        if i in list2:\n",
    "            lst1.append(i)\n",
    "            \n",
    "    return lst1\n",
    "\n",
    "list1=[1,2,3,4,5,6,7,8]\n",
    "list2=[2,14,5,6,43,2,3]\n",
    "\n",
    "common_elemts =common_elemt(list1,list2)\n",
    "\n",
    "print(\"comom elements\",common_elemts)"
   ]
  },
  {
   "cell_type": "code",
   "execution_count": null,
   "id": "b3fd1bfa",
   "metadata": {},
   "outputs": [],
   "source": []
  },
  {
   "cell_type": "markdown",
   "id": "b4b71620",
   "metadata": {},
   "source": [
    "12. Implement a function to check if a given string is an anagram of another string."
   ]
  },
  {
   "cell_type": "code",
   "execution_count": 50,
   "id": "d984b7d1",
   "metadata": {},
   "outputs": [
    {
     "name": "stdout",
     "output_type": "stream",
     "text": [
      "listen and silent are anagrams.\n"
     ]
    }
   ],
   "source": [
    "def is_anagram(str1, str2):\n",
    "    if len(str1) != len(str2):\n",
    "        return False  # Anagrams must have the same length\n",
    "\n",
    "    char_count = {}\n",
    "\n",
    "    for char in str1:\n",
    "        if char in char_count:\n",
    "            char_count[char] += 1\n",
    "        else:\n",
    "            char_count[char] = 1\n",
    "\n",
    "    for char in str2:\n",
    "        if char in char_count:\n",
    "            char_count[char] -= 1\n",
    "        else:\n",
    "            return False  # Found a character not present in str1\n",
    "\n",
    "    for count in char_count.values():\n",
    "        if count != 0:\n",
    "            return False  # Found a character with non-zero count\n",
    "\n",
    "    return True  # All characters in str2 match with str1\n",
    "\n",
    "# Example usage\n",
    "string1 = \"listen\"\n",
    "string2 = \"silent\"\n",
    "if is_anagram(string1, string2):\n",
    "    print(string1, \"and\", string2, \"are anagrams.\")\n",
    "else:\n",
    "    print(string1, \"and\", string2, \"are not anagrams.\")\n"
   ]
  },
  {
   "cell_type": "code",
   "execution_count": null,
   "id": "709cd681",
   "metadata": {},
   "outputs": [],
   "source": []
  },
  {
   "cell_type": "markdown",
   "id": "8579cec2",
   "metadata": {},
   "source": [
    "13. Write a Python program to generate all permutations of a given string"
   ]
  },
  {
   "cell_type": "code",
   "execution_count": 51,
   "id": "eff8f405",
   "metadata": {},
   "outputs": [
    {
     "name": "stdout",
     "output_type": "stream",
     "text": [
      "All permutations of abc are:\n",
      "abc\n",
      "acb\n",
      "bac\n",
      "bca\n",
      "cab\n",
      "cba\n"
     ]
    }
   ],
   "source": [
    "def permutations(string):\n",
    "    if len(string) == 0:\n",
    "        return ['']\n",
    "\n",
    "    result = []\n",
    "    for i in range(len(string)):\n",
    "        char = string[i]\n",
    "        remaining_chars = string[:i] + string[i+1:]\n",
    "        for perm in permutations(remaining_chars):\n",
    "            result.append(char + perm)\n",
    "\n",
    "    return result\n",
    "\n",
    "# Example usage\n",
    "string = \"abc\"\n",
    "all_permutations = permutations(string)\n",
    "print(\"All permutations of\", string, \"are:\")\n",
    "for perm in all_permutations:\n",
    "    print(perm)\n"
   ]
  },
  {
   "cell_type": "code",
   "execution_count": null,
   "id": "95b531ea",
   "metadata": {},
   "outputs": [],
   "source": []
  },
  {
   "cell_type": "markdown",
   "id": "e2ca8a6a",
   "metadata": {},
   "source": [
    "14. Implement a function to calculate the Fibonacci sequence up to a given number of terms."
   ]
  },
  {
   "cell_type": "code",
   "execution_count": 4,
   "id": "cbf3d2b7",
   "metadata": {},
   "outputs": [],
   "source": [
    "def fbibonaci_sqense(num):\n",
    "    \n",
    "    fib=[]\n",
    "    a,b=0,1\n",
    "    \n",
    "    while len(fib)< num:\n",
    "        fib.append(a)\n",
    "        a, b = b, a + b\n",
    "        \n",
    "    return fib"
   ]
  },
  {
   "cell_type": "code",
   "execution_count": 5,
   "id": "0ae08772",
   "metadata": {},
   "outputs": [
    {
     "name": "stdout",
     "output_type": "stream",
     "text": [
      "[0, 1, 1, 2, 3, 5, 8, 13, 21, 34]\n"
     ]
    }
   ],
   "source": [
    "num= 10\n",
    "fibseq=fbibonaci_sqense(num)\n",
    "print(fibseq)"
   ]
  },
  {
   "cell_type": "code",
   "execution_count": null,
   "id": "3e4b777a",
   "metadata": {},
   "outputs": [],
   "source": []
  },
  {
   "cell_type": "markdown",
   "id": "c650086d",
   "metadata": {},
   "source": [
    "15. Write a program to find the median of a list of numbers."
   ]
  },
  {
   "cell_type": "code",
   "execution_count": 6,
   "id": "590e3187",
   "metadata": {},
   "outputs": [
    {
     "name": "stdout",
     "output_type": "stream",
     "text": [
      "The original list : [1, 2, 3, 4, 5, 6, 7, 8, 9, 10]\n",
      "Median of list is : 5.5\n"
     ]
    }
   ],
   "source": [
    "import statistics\n",
    "\n",
    "test_list=[1,2,3,4,5,6,7,8,9,10]\n",
    "\n",
    "print(\"The original list : \" + str(test_list))\n",
    "\n",
    "med=statistics.median(test_list)\n",
    "med\n",
    "print(\"Median of list is : \" + str(med))"
   ]
  },
  {
   "cell_type": "code",
   "execution_count": null,
   "id": "0ada178e",
   "metadata": {},
   "outputs": [],
   "source": []
  },
  {
   "cell_type": "markdown",
   "id": "39e6c68f",
   "metadata": {},
   "source": [
    "16. Implement a function to check if a given list is sorted in non-decreasing order"
   ]
  },
  {
   "cell_type": "code",
   "execution_count": null,
   "id": "d7853ca7",
   "metadata": {},
   "outputs": [],
   "source": [
    "def llst_sorted(num):\n",
    "    for i in range(len(num)-1):\n",
    "        if num[i]>num[i+1]:\n",
    "            return False\n",
    "        return True\n",
    "    \n",
    "list1 = [1, 2, 3, 4, 5]\n",
    "print(is_sorted(list1))\n",
    "\n",
    "list2 = [1, 3, 2, 4, 5]\n",
    "print(is_sorted(list2))"
   ]
  },
  {
   "cell_type": "code",
   "execution_count": null,
   "id": "52c8fcaa",
   "metadata": {},
   "outputs": [],
   "source": []
  },
  {
   "cell_type": "markdown",
   "id": "b6a4db26",
   "metadata": {},
   "source": [
    "17. Write a Python program to find the intersection of two lists"
   ]
  },
  {
   "cell_type": "code",
   "execution_count": 11,
   "id": "f39d9824",
   "metadata": {},
   "outputs": [
    {
     "name": "stdout",
     "output_type": "stream",
     "text": [
      "Intersection: {4, 5}\n"
     ]
    }
   ],
   "source": [
    "def intersection(list1,list2):\n",
    "    \n",
    "    set_oflist = set(list1) & set(list2)\n",
    "    return set_oflist\n",
    "\n",
    "list1 = [1, 2, 3, 4, 5]\n",
    "list2 = [4, 5, 6, 7, 8]\n",
    "result = intersection(list1, list2)\n",
    "print(\"Intersection:\", result)"
   ]
  },
  {
   "cell_type": "code",
   "execution_count": null,
   "id": "f014a05f",
   "metadata": {},
   "outputs": [],
   "source": []
  },
  {
   "cell_type": "markdown",
   "id": "b03ed6e0",
   "metadata": {},
   "source": [
    "18. Implement a function to find the maximum subarray sum in a given list"
   ]
  },
  {
   "cell_type": "code",
   "execution_count": 16,
   "id": "8b1c9391",
   "metadata": {},
   "outputs": [
    {
     "name": "stdout",
     "output_type": "stream",
     "text": [
      "Maximum subarray sum: 6\n"
     ]
    }
   ],
   "source": [
    "def max_subarray_sum(numbers):\n",
    "    max_sum = float('-inf')  # Initialize the maximum sum with negative infinity\n",
    "    current_sum = 0\n",
    "    \n",
    "    for num in numbers:\n",
    "        current_sum = max(num, current_sum + num)\n",
    "        max_sum = max(max_sum, current_sum)\n",
    "    \n",
    "    return max_sum\n",
    "\n",
    "\n",
    "# Test the function\n",
    "list1 = [-2, 1, -3, 4, -1, 2, 1, -5, 4]\n",
    "result = max_subarray_sum(list1)\n",
    "print(\"Maximum subarray sum:\", result)\n"
   ]
  },
  {
   "cell_type": "code",
   "execution_count": null,
   "id": "4c5d4a3c",
   "metadata": {},
   "outputs": [],
   "source": []
  },
  {
   "cell_type": "markdown",
   "id": "bb8a7f24",
   "metadata": {},
   "source": [
    "19. Write a program to remove all vowels from a given string"
   ]
  },
  {
   "cell_type": "code",
   "execution_count": 18,
   "id": "c3b264eb",
   "metadata": {},
   "outputs": [
    {
     "name": "stdout",
     "output_type": "stream",
     "text": [
      "String without vowels:  prvn Shrm\n"
     ]
    }
   ],
   "source": [
    "def remove_voal(string):\n",
    "    voval=\"aeiouAEIOU\"\n",
    "    new=\" \"\n",
    "    for i in string:\n",
    "        if i not in  voval:\n",
    "            new += i\n",
    "    return new \n",
    "        \n",
    "string = \"pravin Sharma\"\n",
    "result = remove_voal(string)\n",
    "print(\"String without vowels:\", result)"
   ]
  },
  {
   "cell_type": "code",
   "execution_count": null,
   "id": "1f1f55d7",
   "metadata": {},
   "outputs": [],
   "source": []
  },
  {
   "cell_type": "markdown",
   "id": "2631846c",
   "metadata": {},
   "source": [
    "20. Implement a function to reverse the order of words in a given sentence"
   ]
  },
  {
   "cell_type": "code",
   "execution_count": 21,
   "id": "389b5aaf",
   "metadata": {},
   "outputs": [
    {
     "name": "stdout",
     "output_type": "stream",
     "text": [
      "reverce order:  Sharma Pravin\n"
     ]
    }
   ],
   "source": [
    "def reverce_order(sentens):\n",
    "    word = sentens.split()\n",
    "    reversed_sentence = ' '.join(reversed(word))\n",
    "    return reversed_sentence\n",
    "\n",
    "senten=\"Pravin Sharma\"\n",
    "result=reverce_order(senten)\n",
    "print(\"reverce order: \",result)"
   ]
  },
  {
   "cell_type": "code",
   "execution_count": null,
   "id": "8f9e3284",
   "metadata": {},
   "outputs": [],
   "source": []
  },
  {
   "cell_type": "markdown",
   "id": "913a256b",
   "metadata": {},
   "source": [
    "21. Write a Python program to check if two strings are anagrams of each other."
   ]
  },
  {
   "cell_type": "code",
   "execution_count": 22,
   "id": "c0906360",
   "metadata": {},
   "outputs": [
    {
     "name": "stdout",
     "output_type": "stream",
     "text": [
      "The strings are anagrams.\n"
     ]
    }
   ],
   "source": [
    "def check(s1, s2):\n",
    "     \n",
    "    # the sorted strings are checked\n",
    "    if(sorted(s1)== sorted(s2)):\n",
    "        print(\"The strings are anagrams.\")\n",
    "    else:\n",
    "        print(\"The strings aren't anagrams.\")        \n",
    "         \n",
    "# driver code \n",
    "s1 =\"listen\"\n",
    "s2 =\"silent\"\n",
    "check(s1, s2)"
   ]
  },
  {
   "cell_type": "code",
   "execution_count": null,
   "id": "c521a0ee",
   "metadata": {},
   "outputs": [],
   "source": []
  },
  {
   "cell_type": "markdown",
   "id": "913813f8",
   "metadata": {},
   "source": [
    "22. Implement a function to find the first non-repeating character in a string."
   ]
  },
  {
   "cell_type": "code",
   "execution_count": 40,
   "id": "4a9a28db",
   "metadata": {},
   "outputs": [
    {
     "name": "stdout",
     "output_type": "stream",
     "text": [
      "P\n"
     ]
    }
   ],
   "source": [
    "def non_repeeting(string):\n",
    "    count = {}\n",
    "    \n",
    "    for i in string:\n",
    "        if i in count:\n",
    "            count[i]+=1\n",
    "        else:\n",
    "            count[i]=1\n",
    "            \n",
    "    for i in string:\n",
    "        if count[i] == 1:\n",
    "            return i\n",
    "        \n",
    "    return None\n",
    "\n",
    "string = \"Pravin Sharma\"\n",
    "result = non_repeeting(string)\n",
    "\n",
    "print(result)"
   ]
  },
  {
   "cell_type": "code",
   "execution_count": null,
   "id": "4e5934f9",
   "metadata": {},
   "outputs": [],
   "source": []
  },
  {
   "cell_type": "markdown",
   "id": "f471d713",
   "metadata": {},
   "source": [
    "23. Write a program to find the prime factors of a given number."
   ]
  },
  {
   "cell_type": "code",
   "execution_count": 43,
   "id": "0198d4a0",
   "metadata": {},
   "outputs": [
    {
     "name": "stdout",
     "output_type": "stream",
     "text": [
      "Prime factors of 20 : [2, 2, 5]\n"
     ]
    }
   ],
   "source": [
    "def Prime_factor(number):\n",
    "    prime_fact =[]\n",
    "    divisor=2\n",
    "    \n",
    "    while divisor <= number:\n",
    "        if number % divisor ==0:\n",
    "            prime_fact.append(divisor)\n",
    "            number //=divisor\n",
    "        else:\n",
    "            divisor +=1\n",
    "    return prime_fact\n",
    "\n",
    "number = 20\n",
    "result = Prime_factor(number)\n",
    "print(\"Prime factors of\", number, \":\", result)"
   ]
  },
  {
   "cell_type": "code",
   "execution_count": null,
   "id": "5f1415fd",
   "metadata": {},
   "outputs": [],
   "source": []
  },
  {
   "cell_type": "markdown",
   "id": "c66e20b2",
   "metadata": {},
   "source": [
    "24. Implement a function to check if a given number is a power of two."
   ]
  },
  {
   "cell_type": "code",
   "execution_count": 6,
   "id": "0aaa6992",
   "metadata": {},
   "outputs": [],
   "source": [
    "def power_of(num):\n",
    "    return num != 0 and (num & (num - 1)) == 0\n",
    "    "
   ]
  },
  {
   "cell_type": "code",
   "execution_count": 7,
   "id": "1b03d1dc",
   "metadata": {},
   "outputs": [
    {
     "data": {
      "text/plain": [
       "True"
      ]
     },
     "execution_count": 7,
     "metadata": {},
     "output_type": "execute_result"
    }
   ],
   "source": [
    "power_of(4)"
   ]
  },
  {
   "cell_type": "code",
   "execution_count": null,
   "id": "296ce76f",
   "metadata": {},
   "outputs": [],
   "source": []
  },
  {
   "cell_type": "markdown",
   "id": "24170471",
   "metadata": {},
   "source": [
    "25. Write a Python program to merge two sorted lists into a single sorted list"
   ]
  },
  {
   "cell_type": "code",
   "execution_count": 11,
   "id": "49dafdac",
   "metadata": {},
   "outputs": [
    {
     "name": "stdout",
     "output_type": "stream",
     "text": [
      "[1, 2, 3, 4, 5, 6, 7, 8, 9, 10]\n"
     ]
    }
   ],
   "source": [
    "def sotrmerg_list(list1,lits2):\n",
    "    merg_list=[]\n",
    "    \n",
    "    i, j = 0, 0\n",
    "    \n",
    "    # Compare elements from both lists and add them to the merged list in ascending order\n",
    "    while i < len(list1) and j < len(list2):\n",
    "        if list1[i] <= list2[j]:\n",
    "            merg_list.append(list1[i])\n",
    "            i += 1\n",
    "        else:\n",
    "            merg_list.append(list2[j])\n",
    "            j += 1\n",
    "    \n",
    "    # Add remaining elements from list1, if any\n",
    "    while i < len(list1):\n",
    "        merg_list.append(list1[i])\n",
    "        i += 1\n",
    "    \n",
    "    # Add remaining elements from list2, if any\n",
    "    while j < len(list2):\n",
    "        merg_list.append(list2[j])\n",
    "        j += 1\n",
    "    \n",
    "    return merg_list\n",
    "\n",
    "# Examples\n",
    "list1 = [1, 3, 5, 7, 9]\n",
    "list2 = [2, 4, 6, 8, 10]\n",
    "print(sotrmerg_list(list1, list2))\n",
    "\n",
    "\n",
    "lits1=[4,5,4,3,3,2,1,2,3]\n",
    "list2=[3,2,1,4,5,6,7,8,5]"
   ]
  },
  {
   "cell_type": "code",
   "execution_count": null,
   "id": "08dfbc5f",
   "metadata": {},
   "outputs": [],
   "source": []
  },
  {
   "cell_type": "markdown",
   "id": "176c12fe",
   "metadata": {},
   "source": [
    "26. Implement a function to find the mode of a list of numbers"
   ]
  },
  {
   "cell_type": "code",
   "execution_count": 36,
   "id": "3584f0a8",
   "metadata": {},
   "outputs": [
    {
     "name": "stdout",
     "output_type": "stream",
     "text": [
      "[2, 4]\n"
     ]
    }
   ],
   "source": [
    "def find_mode(numbers):\n",
    "    frequency = {}\n",
    "    \n",
    "    # Count the frequency of each number\n",
    "    for num in numbers:\n",
    "        if num in frequency:\n",
    "            frequency[num] += 1\n",
    "        else:\n",
    "            frequency[num] = 1\n",
    "    \n",
    "    # Find the number(s) with the maximum frequency\n",
    "    max_frequency = max(frequency.values())\n",
    "    mode = [num for num, freq in frequency.items() if freq == max_frequency]\n",
    "    \n",
    "    return mode\n",
    "\n",
    "# Example\n",
    "numbers = [1, 2, 3, 2, 4, 3, 2, 1, 3, 2, 4, 4, 4]\n",
    "print(find_mode(numbers))  # Output: [2, 4]\n"
   ]
  },
  {
   "cell_type": "code",
   "execution_count": null,
   "id": "56a19c51",
   "metadata": {},
   "outputs": [],
   "source": []
  },
  {
   "cell_type": "markdown",
   "id": "dbe6e8da",
   "metadata": {},
   "source": [
    "27. Write a program to find the greatest common divisor (GCD) of two numbers."
   ]
  },
  {
   "cell_type": "code",
   "execution_count": 42,
   "id": "4ba47c4d",
   "metadata": {},
   "outputs": [
    {
     "name": "stdout",
     "output_type": "stream",
     "text": [
      "25\n"
     ]
    }
   ],
   "source": [
    "def divisor(a,b):\n",
    "    if b != 0:\n",
    "        a,b = b,a % b\n",
    "        \n",
    "    return a\n",
    "\n",
    "\n",
    "num1=24\n",
    "num2=25\n",
    "print(divisor(num1,num2))"
   ]
  },
  {
   "cell_type": "code",
   "execution_count": null,
   "id": "bbce25f1",
   "metadata": {},
   "outputs": [],
   "source": []
  },
  {
   "cell_type": "markdown",
   "id": "2efe6744",
   "metadata": {},
   "source": [
    "28. Implement a function to calculate the square root of a given number\n"
   ]
  },
  {
   "cell_type": "code",
   "execution_count": 4,
   "id": "76691019",
   "metadata": {},
   "outputs": [
    {
     "data": {
      "text/plain": [
       "3.0"
      ]
     },
     "execution_count": 4,
     "metadata": {},
     "output_type": "execute_result"
    }
   ],
   "source": [
    "def square_root(num):\n",
    "    if num < 0:\n",
    "        raise ValueError(\"Cannot calculate the square root of a negative number.\")\n",
    "\n",
    "    x0 = num  # Initial guess\n",
    "    x = x0\n",
    "\n",
    "    # Iterate until desired accuracy or maximum iterations\n",
    "    max_iterations = 100\n",
    "    tolerance = 1e-7  # Desired level of accuracy\n",
    "    for _ in range(max_iterations):\n",
    "        x = (x + num / x) / 2\n",
    "        if abs(x - x0) < tolerance:\n",
    "            break\n",
    "        x0 = x\n",
    "\n",
    "    return x\n",
    "    \n",
    "square_root(9)"
   ]
  },
  {
   "cell_type": "code",
   "execution_count": null,
   "id": "d866a260",
   "metadata": {},
   "outputs": [],
   "source": []
  },
  {
   "cell_type": "markdown",
   "id": "adb9dd5c",
   "metadata": {},
   "source": [
    "29. Write a Python program to check if a given string is a valid palindrome ignoring non-alphanumeric characters.\n"
   ]
  },
  {
   "cell_type": "code",
   "execution_count": 6,
   "id": "4232be3a",
   "metadata": {},
   "outputs": [
    {
     "name": "stdout",
     "output_type": "stream",
     "text": [
      "True\n",
      "False\n",
      "True\n",
      "True\n",
      "False\n"
     ]
    }
   ],
   "source": [
    "def isPalindrome(s):\n",
    "    s = s.lower()\n",
    "    left = 0\n",
    "    right = len(s) - 1\n",
    "\n",
    "    while left < right:\n",
    "        if not s[left].isalnum():\n",
    "            left += 1\n",
    "            continue\n",
    "        if not s[right].isalnum():\n",
    "            right -= 1\n",
    "            continue\n",
    "        if s[left] != s[right]:\n",
    "            return False\n",
    "        left += 1\n",
    "        right -= 1\n",
    "\n",
    "    return True\n",
    "\n",
    "print(isPalindrome(\"A man, a plan, a canal: Panama\"))\n",
    "print(isPalindrome(\"race a car\"))                    \n",
    "print(isPalindrome(\"Was it a car or a cat I saw?\"))  \n",
    "print(isPalindrome(\"12321\"))                         \n",
    "print(isPalindrome(\"Hello World\"))             \n"
   ]
  },
  {
   "cell_type": "code",
   "execution_count": null,
   "id": "9f5a7180",
   "metadata": {},
   "outputs": [],
   "source": []
  },
  {
   "cell_type": "markdown",
   "id": "422ee373",
   "metadata": {},
   "source": [
    "30. Implement a function to find the minimum element in a rotated sorted list"
   ]
  },
  {
   "cell_type": "code",
   "execution_count": 8,
   "id": "4d423478",
   "metadata": {},
   "outputs": [
    {
     "name": "stdout",
     "output_type": "stream",
     "text": [
      "1\n",
      "0\n",
      "0\n",
      "1\n"
     ]
    }
   ],
   "source": [
    "def findMin(nums):\n",
    "    left = 0\n",
    "    right = len(nums) - 1\n",
    "\n",
    "    while left < right:\n",
    "        mid = (left + right) // 2\n",
    "\n",
    "        if nums[mid] > nums[right]:\n",
    "            left = mid + 1\n",
    "        else:\n",
    "            right = mid\n",
    "\n",
    "    return nums[left]\n",
    "\n",
    "print(findMin([3, 4, 5, 1, 2]))    \n",
    "print(findMin([4, 5, 6, 7, 0, 1, 2])) \n",
    "print(findMin([2, 2, 2, 0, 1]))    \n",
    "print(findMin([1]))                \n",
    "\n"
   ]
  },
  {
   "cell_type": "markdown",
   "id": "379d9163",
   "metadata": {},
   "source": [
    "31. Write a program to find the sum of all even numbers in a list."
   ]
  },
  {
   "cell_type": "code",
   "execution_count": 18,
   "id": "a8f77b45",
   "metadata": {},
   "outputs": [
    {
     "name": "stdout",
     "output_type": "stream",
     "text": [
      "12\n"
     ]
    }
   ],
   "source": [
    "def sum_of_even_numbers(lst):\n",
    "    total_sum = 0\n",
    "    for num in lst:\n",
    "        if num % 2 == 0:\n",
    "            total_sum += num\n",
    "    return total_sum\n",
    "\n",
    "nums = [1, 2, 3, 4, 5, 6]\n",
    "result=sum_of_even_numbers(nums)\n",
    "print(result)"
   ]
  },
  {
   "cell_type": "markdown",
   "id": "8f7fbbf0",
   "metadata": {},
   "source": [
    "32. Implement a function to calculate the power of a number using recursion.\n"
   ]
  },
  {
   "cell_type": "code",
   "execution_count": 5,
   "id": "b318e60b",
   "metadata": {},
   "outputs": [
    {
     "name": "stdout",
     "output_type": "stream",
     "text": [
      "25\n"
     ]
    }
   ],
   "source": [
    "def power(N, P):\n",
    "    if P == 0:\n",
    "        return 1\n",
    " \n",
    "    # Recurrence relation\n",
    "    return (N*power(N, P-1))\n",
    " \n",
    "# Driver code\n",
    "    if __name__ == '__main__':\n",
    "        N = 5\n",
    "        P = 2\n",
    " \n",
    "print(power(N, P))"
   ]
  },
  {
   "cell_type": "code",
   "execution_count": null,
   "id": "0cac7c81",
   "metadata": {},
   "outputs": [],
   "source": []
  },
  {
   "cell_type": "markdown",
   "id": "cddf193b",
   "metadata": {},
   "source": [
    "33. Write a Python program to remove duplicates from a list while preserving the order.\n"
   ]
  },
  {
   "cell_type": "code",
   "execution_count": 1,
   "id": "41efd9d0",
   "metadata": {},
   "outputs": [
    {
     "name": "stdout",
     "output_type": "stream",
     "text": [
      "[1, 2, 3, 4, 5, 6, 7]\n"
     ]
    }
   ],
   "source": [
    "def remove_duplicates(lst):\n",
    "    seen = set()\n",
    "    result = []\n",
    "    for item in lst:\n",
    "        if item not in seen:\n",
    "            seen.add(item)\n",
    "            result.append(item)\n",
    "    return result\n",
    "\n",
    "# Example usage\n",
    "my_list = [1, 2, 3, 2, 4, 3, 5, 4, 6, 7, 6, 5]\n",
    "result_list = remove_duplicates(my_list)\n",
    "print(result_list)\n"
   ]
  },
  {
   "cell_type": "code",
   "execution_count": null,
   "id": "b330b70d",
   "metadata": {},
   "outputs": [],
   "source": []
  },
  {
   "cell_type": "markdown",
   "id": "d0853eb3",
   "metadata": {},
   "source": [
    "34. Implement a function to find the longest common prefix among a list of strings."
   ]
  },
  {
   "cell_type": "code",
   "execution_count": 3,
   "id": "25a80a7c",
   "metadata": {},
   "outputs": [
    {
     "name": "stdout",
     "output_type": "stream",
     "text": [
      "fl\n"
     ]
    }
   ],
   "source": [
    "def longest_common_prefix(strs):\n",
    "    if not strs:\n",
    "        return \"\"\n",
    "\n",
    "    prefix = strs[0]\n",
    "    for string in strs[1:]:\n",
    "        while string[:len(prefix)] != prefix:\n",
    "            prefix = prefix[:-1]\n",
    "            if not prefix:\n",
    "                return \"\"\n",
    "    return prefix\n",
    "strings = [\"flower\", \"flow\", \"flight\"]\n",
    "common_prefix = longest_common_prefix(strings)\n",
    "print(common_prefix)\n",
    "\n"
   ]
  },
  {
   "cell_type": "code",
   "execution_count": null,
   "id": "fea2a0c6",
   "metadata": {},
   "outputs": [],
   "source": []
  },
  {
   "cell_type": "markdown",
   "id": "a2db27dc",
   "metadata": {},
   "source": [
    "35. Write a program to check if a given number is a perfect square."
   ]
  },
  {
   "cell_type": "code",
   "execution_count": 8,
   "id": "beae468d",
   "metadata": {},
   "outputs": [
    {
     "name": "stdout",
     "output_type": "stream",
     "text": [
      "12 is not a perfect square.\n"
     ]
    }
   ],
   "source": [
    "def is_perfect_square(num):\n",
    "    if num < 0:\n",
    "        return False\n",
    "    \n",
    "    sqrt = int(num ** 0.5)\n",
    "    return sqrt * sqrt == num\n",
    "\n",
    "number = 12\n",
    "if is_perfect_square(number):\n",
    "    print(f\"{number} is a perfect square.\")\n",
    "else:\n",
    "    print(f\"{number} is not a perfect square.\")"
   ]
  },
  {
   "cell_type": "code",
   "execution_count": null,
   "id": "e511b04d",
   "metadata": {},
   "outputs": [],
   "source": []
  },
  {
   "cell_type": "markdown",
   "id": "fae20557",
   "metadata": {},
   "source": [
    "36. Implement a function to calculate the product of all elements in a list."
   ]
  },
  {
   "cell_type": "code",
   "execution_count": 12,
   "id": "2de65999",
   "metadata": {},
   "outputs": [
    {
     "name": "stdout",
     "output_type": "stream",
     "text": [
      "28800\n"
     ]
    }
   ],
   "source": [
    "def product_calculate(lst):\n",
    "    if not lst:\n",
    "        return 1\n",
    "    product = 1\n",
    "    \n",
    "    for num in lst:\n",
    "        product *= num\n",
    "    return product\n",
    "\n",
    "result=[10,12,3,4,5,4,]\n",
    "find=product_calculate(result)\n",
    "print(find)"
   ]
  },
  {
   "cell_type": "code",
   "execution_count": null,
   "id": "c99f9b8b",
   "metadata": {},
   "outputs": [],
   "source": []
  },
  {
   "cell_type": "markdown",
   "id": "3d93309e",
   "metadata": {},
   "source": [
    "37. Write a Python program to reverse the order of words in a sentence while preserving the word order."
   ]
  },
  {
   "cell_type": "code",
   "execution_count": 13,
   "id": "83b66001",
   "metadata": {},
   "outputs": [
    {
     "name": "stdout",
     "output_type": "stream",
     "text": [
      "you? are How world! Hello,\n"
     ]
    }
   ],
   "source": [
    "def reverse_sentence(sentence):\n",
    "    words = sentence.split()\n",
    "    reversed_words = words[::-1]\n",
    "    reversed_sentence = \" \".join(reversed_words)\n",
    "    return reversed_sentence\n",
    "\n",
    "\n",
    "# Example usage\n",
    "sentence = \"Hello, world! How are you?\"\n",
    "reversed_sentence = reverse_sentence(sentence)\n",
    "print(reversed_sentence)\n"
   ]
  },
  {
   "cell_type": "code",
   "execution_count": null,
   "id": "d4c0b177",
   "metadata": {},
   "outputs": [],
   "source": []
  },
  {
   "cell_type": "markdown",
   "id": "ad5d8178",
   "metadata": {},
   "source": [
    "38. Implement a function to find the missing number in a given list of consecutive numbers."
   ]
  },
  {
   "cell_type": "code",
   "execution_count": 15,
   "id": "66b882e2",
   "metadata": {},
   "outputs": [
    {
     "name": "stdout",
     "output_type": "stream",
     "text": [
      "3\n"
     ]
    }
   ],
   "source": [
    "def find_missing_number(lst):\n",
    "    n = len(lst) + 1\n",
    "    total_sum = (n * (n + 1)) // 2  # Sum of all numbers from 1 to n\n",
    "    list_sum = sum(lst)  # Sum of numbers in the given list\n",
    "    missing_number = total_sum - list_sum\n",
    "    return missing_number\n",
    "\n",
    "num=[1,2,4,5,6,7,8]\n",
    "result=find_missing_number(num)\n",
    "print(result)"
   ]
  },
  {
   "cell_type": "code",
   "execution_count": null,
   "id": "b85c7052",
   "metadata": {},
   "outputs": [],
   "source": []
  },
  {
   "cell_type": "markdown",
   "id": "582a0531",
   "metadata": {},
   "source": [
    "39. Write a program to find the sum of digits of a given number."
   ]
  },
  {
   "cell_type": "code",
   "execution_count": 16,
   "id": "58de1fce",
   "metadata": {},
   "outputs": [
    {
     "name": "stdout",
     "output_type": "stream",
     "text": [
      "15\n"
     ]
    }
   ],
   "source": [
    "def sum_of_digits(number):\n",
    "    total_sum = 0\n",
    "    num = abs(number)\n",
    "    while num > 0:\n",
    "        digit = num % 10\n",
    "        total_sum += digit\n",
    "        num //= 10\n",
    "        \n",
    "    return total_sum\n",
    "\n",
    "\n",
    "# Example usage\n",
    "number = 12345\n",
    "digit_sum = sum_of_digits(number)\n",
    "print(digit_sum)"
   ]
  },
  {
   "cell_type": "code",
   "execution_count": null,
   "id": "d3948b97",
   "metadata": {},
   "outputs": [],
   "source": []
  },
  {
   "cell_type": "markdown",
   "id": "21a4b931",
   "metadata": {},
   "source": [
    "41. Write a Python program to find the smallest missing positive integer in a list."
   ]
  },
  {
   "cell_type": "code",
   "execution_count": 17,
   "id": "6d43371e",
   "metadata": {},
   "outputs": [
    {
     "name": "stdout",
     "output_type": "stream",
     "text": [
      "2\n"
     ]
    }
   ],
   "source": [
    "def find_smallest_missing_positive(lst):\n",
    "    n = len(lst)\n",
    "    # Move all positive numbers to the left side of the list\n",
    "    left = 0\n",
    "    for i in range(n):\n",
    "        if lst[i] > 0:\n",
    "            lst[i], lst[left] = lst[left], lst[i]\n",
    "            left += 1\n",
    "\n",
    "    # Consider only the positive numbers in the modified list\n",
    "    positive_nums = lst[left:]\n",
    "\n",
    "    # Mark the presence of positive numbers by changing the sign of corresponding indices\n",
    "    for num in positive_nums:\n",
    "        index = abs(num) - 1\n",
    "        if index < len(positive_nums) and positive_nums[index] > 0:\n",
    "            positive_nums[index] *= -1\n",
    "\n",
    "    # Find the smallest missing positive integer\n",
    "    for i in range(len(positive_nums)):\n",
    "        if positive_nums[i] > 0:\n",
    "            return i + 1\n",
    "\n",
    "    # If all positive integers from 1 to n are present, return n+1\n",
    "    return len(positive_nums) + 1\n",
    "\n",
    "\n",
    "# Example usage\n",
    "numbers = [3, 4, -1, 1]\n",
    "smallest_missing = find_smallest_missing_positive(numbers)\n",
    "print(smallest_missing)\n"
   ]
  },
  {
   "cell_type": "code",
   "execution_count": null,
   "id": "03e0a041",
   "metadata": {},
   "outputs": [],
   "source": []
  },
  {
   "cell_type": "markdown",
   "id": "09733423",
   "metadata": {},
   "source": [
    "42. Implement a function to find the longest palindrome substring in a given string."
   ]
  },
  {
   "cell_type": "code",
   "execution_count": 18,
   "id": "1ebe82f8",
   "metadata": {},
   "outputs": [
    {
     "name": "stdout",
     "output_type": "stream",
     "text": [
      "bab\n"
     ]
    }
   ],
   "source": [
    "def longest_palindrome(s):\n",
    "    n = len(s)\n",
    "    if n < 2:\n",
    "        return s\n",
    "\n",
    "    start = 0\n",
    "    max_len = 1\n",
    "\n",
    "    # Helper function to expand around the center\n",
    "    def expand_around_center(left, right):\n",
    "        while left >= 0 and right < n and s[left] == s[right]:\n",
    "            left -= 1\n",
    "            right += 1\n",
    "        return right - left - 1\n",
    "\n",
    "    for i in range(n):\n",
    "        len1 = expand_around_center(i, i)  # For odd-length palindromes\n",
    "        len2 = expand_around_center(i, i + 1)  # For even-length palindromes\n",
    "        curr_len = max(len1, len2)\n",
    "\n",
    "        if curr_len > max_len:\n",
    "            max_len = curr_len\n",
    "            start = i - (curr_len - 1) // 2\n",
    "\n",
    "    return s[start:start + max_len]\n",
    "\n",
    "\n",
    "# Example usage\n",
    "string = \"babad\"\n",
    "longest_palindrome_substring = longest_palindrome(string)\n",
    "print(longest_palindrome_substring)\n"
   ]
  },
  {
   "cell_type": "code",
   "execution_count": null,
   "id": "1f5691af",
   "metadata": {},
   "outputs": [],
   "source": []
  },
  {
   "cell_type": "markdown",
   "id": "ef46bfdd",
   "metadata": {},
   "source": [
    "43. Write a program to find the number of occurrences of a given element in a list."
   ]
  },
  {
   "cell_type": "code",
   "execution_count": 19,
   "id": "51cc6c28",
   "metadata": {},
   "outputs": [
    {
     "name": "stdout",
     "output_type": "stream",
     "text": [
      "3\n"
     ]
    }
   ],
   "source": [
    "def count_occurrences(lst, element):\n",
    "    count = 0\n",
    "    for item in lst:\n",
    "        if item == element:\n",
    "            count += 1\n",
    "    return count\n",
    "\n",
    "\n",
    "# Example usage\n",
    "my_list = [1, 2, 3, 2, 4, 3, 2, 5]\n",
    "target_element = 2\n",
    "occurrences = count_occurrences(my_list, target_element)\n",
    "print(occurrences)\n"
   ]
  },
  {
   "cell_type": "code",
   "execution_count": null,
   "id": "5a02d66d",
   "metadata": {},
   "outputs": [],
   "source": []
  },
  {
   "cell_type": "markdown",
   "id": "ba684f74",
   "metadata": {},
   "source": [
    "44. Implement a function to check if a given number is a perfect number."
   ]
  },
  {
   "cell_type": "code",
   "execution_count": 20,
   "id": "dce8f71b",
   "metadata": {},
   "outputs": [
    {
     "name": "stdout",
     "output_type": "stream",
     "text": [
      "28 is a perfect number.\n"
     ]
    }
   ],
   "source": [
    "def is_perfect_number(num):\n",
    "    if num <= 0:\n",
    "        return False\n",
    "\n",
    "    divisor_sum = 0\n",
    "    for i in range(1, num):\n",
    "        if num % i == 0:\n",
    "            divisor_sum += i\n",
    "\n",
    "    return divisor_sum == num\n",
    "\n",
    "\n",
    "# Example usage\n",
    "number = 28\n",
    "if is_perfect_number(number):\n",
    "    print(f\"{number} is a perfect number.\")\n",
    "else:\n",
    "    print(f\"{number} is not a perfect number.\")\n"
   ]
  },
  {
   "cell_type": "code",
   "execution_count": null,
   "id": "87061898",
   "metadata": {},
   "outputs": [],
   "source": []
  },
  {
   "cell_type": "markdown",
   "id": "409743d8",
   "metadata": {},
   "source": [
    "45. Write a Python program to remove all duplicates from a string."
   ]
  },
  {
   "cell_type": "code",
   "execution_count": 21,
   "id": "011329c4",
   "metadata": {},
   "outputs": [
    {
     "name": "stdout",
     "output_type": "stream",
     "text": [
      "Helo, wrd!\n"
     ]
    }
   ],
   "source": [
    "def remove_duplicates(string):\n",
    "    unique_chars = []\n",
    "    for char in string:\n",
    "        if char not in unique_chars:\n",
    "            unique_chars.append(char)\n",
    "    return ''.join(unique_chars)\n",
    "\n",
    "\n",
    "# Example usage\n",
    "my_string = \"Hello, world!\"\n",
    "result_string = remove_duplicates(my_string)\n",
    "print(result_string)\n"
   ]
  },
  {
   "cell_type": "code",
   "execution_count": null,
   "id": "9de8e206",
   "metadata": {},
   "outputs": [],
   "source": []
  },
  {
   "cell_type": "markdown",
   "id": "8177806e",
   "metadata": {},
   "source": [
    "46. Implement a function to find the first missing positive\n",
    "\n",
    "\n",
    "\n",
    "\n",
    "\n",
    "\n",
    "\n",
    "\n",
    "\n",
    "\n",
    "\n",
    "\n",
    "\n",
    "\n"
   ]
  },
  {
   "cell_type": "code",
   "execution_count": 23,
   "id": "a5219773",
   "metadata": {},
   "outputs": [
    {
     "name": "stdout",
     "output_type": "stream",
     "text": [
      "2\n"
     ]
    }
   ],
   "source": [
    "def find_first_missing_positive(nums):\n",
    "    n = len(nums)\n",
    "\n",
    "    # Step 1: Move positive numbers to their correct positions\n",
    "    i = 0\n",
    "    while i < n:\n",
    "        # Check if the current number is positive and within range\n",
    "        if 1 <= nums[i] <= n and nums[i] != nums[nums[i] - 1]:\n",
    "            # Swap the current number to its correct position\n",
    "            nums[nums[i] - 1], nums[i] = nums[i], nums[nums[i] - 1]\n",
    "        else:\n",
    "            i += 1\n",
    "\n",
    "    # Step 2: Find the first missing positive integer\n",
    "    for i in range(n):\n",
    "        if nums[i] != i + 1:\n",
    "            return i + 1\n",
    "\n",
    "    # If all positive integers from 1 to n are present, return n + 1\n",
    "    return n + 1\n",
    "\n",
    "\n",
    "# Example usage\n",
    "numbers = [3, 4, -1, 1]\n",
    "first_missing = find_first_missing_positive(numbers)\n",
    "print(first_missing)\n"
   ]
  },
  {
   "cell_type": "code",
   "execution_count": null,
   "id": "a5264a52",
   "metadata": {},
   "outputs": [],
   "source": []
  }
 ],
 "metadata": {
  "kernelspec": {
   "display_name": "Python 3",
   "language": "python",
   "name": "python3"
  },
  "language_info": {
   "codemirror_mode": {
    "name": "ipython",
    "version": 3
   },
   "file_extension": ".py",
   "mimetype": "text/x-python",
   "name": "python",
   "nbconvert_exporter": "python",
   "pygments_lexer": "ipython3",
   "version": "3.8.8"
  }
 },
 "nbformat": 4,
 "nbformat_minor": 5
}
