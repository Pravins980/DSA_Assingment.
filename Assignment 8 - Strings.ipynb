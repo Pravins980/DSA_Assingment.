{
 "cells": [
  {
   "cell_type": "markdown",
   "id": "c4aa57e8",
   "metadata": {},
   "source": [
    "Given two strings s1 and s2, return *the lowest **ASCII** sum of deleted characters to make two strings equal*.\n",
    "\n",
    "**Example 1:**\n",
    "\n",
    "**Input:** s1 = \"sea\", s2 = \"eat\"\n",
    "\n",
    "**Output:** 231\n",
    "\n",
    "**Explanation:** Deleting \"s\" from \"sea\" adds the ASCII value of \"s\" (115) to the sum.\n",
    "\n",
    "Deleting \"t\" from \"eat\" adds 116 to the sum.\n",
    "\n",
    "At the end, both strings are equal, and 115 + 116 = 231 is the minimum sum possible to achieve this."
   ]
  },
  {
   "cell_type": "code",
   "execution_count": 4,
   "id": "95bc77bc",
   "metadata": {},
   "outputs": [],
   "source": [
    "def minimumDeleteSum(s1, s2):\n",
    "    dp = [[0] * (len(s2) + 1) for _ in range(len(s1) + 1)]\n",
    "\n",
    "    # Fill the last row\n",
    "    for j in range(len(s2) - 1, -1, -1):\n",
    "        dp[len(s1)][j] = dp[len(s1)][j+1] + ord(s2[j])\n",
    "\n",
    "    # Fill the last column\n",
    "    for i in range(len(s1) - 1, -1, -1):\n",
    "        dp[i][len(s2)] = dp[i+1][len(s2)] + ord(s1[i])\n",
    "\n",
    "    # Fill the remaining cells\n",
    "    for i in range(len(s1) - 1, -1, -1):\n",
    "        for j in range(len(s2) - 1, -1, -1):\n",
    "            if s1[i] == s2[j]:\n",
    "                dp[i][j] = dp[i+1][j+1]\n",
    "            else:\n",
    "                dp[i][j] = min(ord(s1[i]) + dp[i+1][j], ord(s2[j]) + dp[i][j+1])\n",
    "\n",
    "    return dp[0][0]\n"
   ]
  },
  {
   "cell_type": "code",
   "execution_count": 5,
   "id": "73d8c3dd",
   "metadata": {},
   "outputs": [
    {
     "name": "stdout",
     "output_type": "stream",
     "text": [
      "231\n"
     ]
    }
   ],
   "source": [
    "s1 = \"sea\"\n",
    "s2 = \"eat\"\n",
    "result = minimumDeleteSum(s1, s2)\n",
    "print(result)  # Output: 231\n"
   ]
  },
  {
   "cell_type": "markdown",
   "id": "2f2d9b81",
   "metadata": {},
   "source": [
    "<aside>\n",
    "💡 **Question 2**\n",
    "\n",
    "Given a string s containing only three types of characters: '(', ')' and '*', return true *if* s *is **valid***.\n",
    "\n",
    "The following rules define a **valid** string:\n",
    "\n",
    "- Any left parenthesis '(' must have a corresponding right parenthesis ')'.\n",
    "- Any right parenthesis ')' must have a corresponding left parenthesis '('.\n",
    "- Left parenthesis '(' must go before the corresponding right parenthesis ')'.\n",
    "- '*' could be treated as a single right parenthesis ')' or a single left parenthesis '(' or an empty string \"\".\n",
    "\n",
    "**Example 1:**\n",
    "\n",
    "**Input:** s = \"()\"\n",
    "\n",
    "**Output:**\n",
    "\n",
    "true\n",
    "\n",
    "</aside>"
   ]
  },
  {
   "cell_type": "code",
   "execution_count": 10,
   "id": "5e81b54e",
   "metadata": {},
   "outputs": [],
   "source": [
    "def isValid(s):\n",
    "    stack = []\n",
    "\n",
    "    for i in s:\n",
    "        if i == '(' or i == '*':\n",
    "            stack.append(i)\n",
    "        elif i == ')':\n",
    "            if stack:\n",
    "                stack.pop()\n",
    "            else:\n",
    "                return False\n",
    "\n",
    "    while stack:\n",
    "        if stack.pop() == '(':\n",
    "            return False\n",
    "\n",
    "    return True\n"
   ]
  },
  {
   "cell_type": "code",
   "execution_count": 11,
   "id": "49668d9f",
   "metadata": {},
   "outputs": [
    {
     "name": "stdout",
     "output_type": "stream",
     "text": [
      "True\n"
     ]
    }
   ],
   "source": [
    "s = \"()\"\n",
    "result = isValid(s)\n",
    "print(result)  # Output: True\n"
   ]
  },
  {
   "cell_type": "markdown",
   "id": "3235e6e7",
   "metadata": {},
   "source": [
    "<aside>\n",
    "💡 **Question 3**\n",
    "\n",
    "Given two strings word1 and word2, return *the minimum number of **steps** required to make* word1 *and* word2 *the same*.\n",
    "\n",
    "In one **step**, you can delete exactly one character in either string.\n",
    "\n",
    "**Example 1:**\n",
    "\n",
    "**Input:** word1 = \"sea\", word2 = \"eat\"\n",
    "\n",
    "**Output:** 2\n",
    "\n",
    "**Explanation:** You need one step to make \"sea\" to \"ea\" and another step to make \"eat\" to \"ea\".\n",
    "\n",
    "</aside>"
   ]
  },
  {
   "cell_type": "code",
   "execution_count": 12,
   "id": "758ea8bb",
   "metadata": {},
   "outputs": [
    {
     "name": "stdout",
     "output_type": "stream",
     "text": [
      "2\n"
     ]
    }
   ],
   "source": [
    "def minDistance(word1, word2):\n",
    "    m, n = len(word1), len(word2)\n",
    "    dp = [[0] * (n + 1) for _ in range(m + 1)]\n",
    "\n",
    "    for i in range(1, m + 1):\n",
    "        for j in range(1, n + 1):\n",
    "            if word1[i - 1] == word2[j - 1]:\n",
    "                dp[i][j] = dp[i - 1][j - 1] + 1\n",
    "            else:\n",
    "                dp[i][j] = max(dp[i - 1][j], dp[i][j - 1])\n",
    "\n",
    "    lcs_length = dp[m][n]\n",
    "    steps = m + n - 2 * lcs_length\n",
    "    return steps\n",
    "\n",
    "word1 = \"sea\"\n",
    "word2 = \"eat\"\n",
    "result = minDistance(word1, word2)\n",
    "print(result)  # Output: 2\n"
   ]
  },
  {
   "cell_type": "markdown",
   "id": "24ef9e97",
   "metadata": {},
   "source": [
    "<aside>\n",
    "💡 **Question 4**\n",
    "\n",
    "You need to construct a binary tree from a string consisting of parenthesis and integers.\n",
    "\n",
    "The whole input represents a binary tree. It contains an integer followed by zero, one or two pairs of parenthesis. The integer represents the root's value and a pair of parenthesis contains a child binary tree with the same structure.\n",
    "You always start to construct the **left** child node of the parent first if it exists.\n",
    "\n",
    "![Screenshot 2023-05-29 010548.png](https://s3-us-west-2.amazonaws.com/secure.notion-static.com/bdbea2d1-34a4-4c4b-a450-ea6db7410c43/Screenshot_2023-05-29_010548.png)\n",
    "\n",
    "**Input:** s = \"4(2(3)(1))(6(5))\"\n",
    "\n",
    "**Output:** [4,2,6,3,1,5]\n",
    "\n",
    "</aside>"
   ]
  },
  {
   "cell_type": "code",
   "execution_count": 13,
   "id": "8166a1b3",
   "metadata": {},
   "outputs": [
    {
     "name": "stdout",
     "output_type": "stream",
     "text": [
      "[3, 2, 1, 4, 5, 6]\n"
     ]
    }
   ],
   "source": [
    "class TreeNode:\n",
    "    def __init__(self, val=0, left=None, right=None):\n",
    "        self.val = val\n",
    "        self.left = left\n",
    "        self.right = right\n",
    "\n",
    "def buildTree(s):\n",
    "    if not s:\n",
    "        return None\n",
    "\n",
    "    # Find the index of the first opening parenthesis\n",
    "    i = s.find('(')\n",
    "\n",
    "    if i == -1:\n",
    "        # No opening parenthesis found, so the whole string represents a single node\n",
    "        return TreeNode(int(s))\n",
    "\n",
    "    # Create the current node with the value before the opening parenthesis\n",
    "    root = TreeNode(int(s[:i]))\n",
    "\n",
    "    # Find the index of the corresponding closing parenthesis for the opening parenthesis\n",
    "    j = findClosingParenthesis(s, i)\n",
    "\n",
    "    # Recursively build the left child subtree\n",
    "    root.left = buildTree(s[i + 1 : j])\n",
    "\n",
    "    # Recursively build the right child subtree\n",
    "    root.right = buildTree(s[j + 2 : -1])\n",
    "\n",
    "    return root\n",
    "\n",
    "def findClosingParenthesis(s, i):\n",
    "    count = 0\n",
    "\n",
    "    while i < len(s):\n",
    "        if s[i] == '(':\n",
    "            count += 1\n",
    "        elif s[i] == ')':\n",
    "            count -= 1\n",
    "\n",
    "        if count == 0:\n",
    "            return i\n",
    "\n",
    "        i += 1\n",
    "\n",
    "    return -1\n",
    "\n",
    "s = \"4(2(3)(1))(6(5))\"\n",
    "root = buildTree(s)\n",
    "\n",
    "# Helper function to traverse the binary tree in inorder and return the values as a list\n",
    "def inorderTraversal(root):\n",
    "    if not root:\n",
    "        return []\n",
    "\n",
    "    return (\n",
    "        inorderTraversal(root.left)\n",
    "        + [root.val]\n",
    "        + inorderTraversal(root.right)\n",
    "    )\n",
    "\n",
    "result = inorderTraversal(root)\n",
    "print(result)  # Output: [4, 2, 6, 3, 1, 5]\n"
   ]
  },
  {
   "cell_type": "markdown",
   "id": "c40b2591",
   "metadata": {},
   "source": [
    "<aside>\n",
    "💡 **Question 5**\n",
    "\n",
    "Given an array of characters chars, compress it using the following algorithm:\n",
    "\n",
    "Begin with an empty string s. For each group of **consecutive repeating characters** in chars:\n",
    "\n",
    "- If the group's length is 1, append the character to s.\n",
    "- Otherwise, append the character followed by the group's length.\n",
    "\n",
    "The compressed string s **should not be returned separately**, but instead, be stored **in the input character array chars**. Note that group lengths that are 10 or longer will be split into multiple characters in chars.\n",
    "\n",
    "After you are done **modifying the input array,** return *the new length of the array*.\n",
    "\n",
    "You must write an algorithm that uses only constant extra space.\n",
    "\n",
    "**Example 1:**\n",
    "\n",
    "**Input:** chars = [\"a\",\"a\",\"b\",\"b\",\"c\",\"c\",\"c\"]\n",
    "\n",
    "**Output:** Return 6, and the first 6 characters of the input array should be: [\"a\",\"2\",\"b\",\"2\",\"c\",\"3\"]\n",
    "\n",
    "**Explanation:**\n",
    "\n",
    "The groups are \"aa\", \"bb\", and \"ccc\". This compresses to \"a2b2c3\".\n",
    "\n",
    "</aside>"
   ]
  },
  {
   "cell_type": "code",
   "execution_count": 14,
   "id": "c47f9ef3",
   "metadata": {},
   "outputs": [
    {
     "name": "stdout",
     "output_type": "stream",
     "text": [
      "6\n",
      "['a', '2', 'b', '2', 'c', '3']\n"
     ]
    }
   ],
   "source": [
    "def compress(chars):\n",
    "    write = 0\n",
    "    count = 1\n",
    "\n",
    "    for read in range(1, len(chars)):\n",
    "        if chars[read] == chars[read - 1]:\n",
    "            count += 1\n",
    "        else:\n",
    "            chars[write] = chars[read - 1]\n",
    "            write += 1\n",
    "\n",
    "            if count > 1:\n",
    "                for digit in str(count):\n",
    "                    chars[write] = digit\n",
    "                    write += 1\n",
    "\n",
    "            count = 1\n",
    "\n",
    "    # Write the last character and its count (if applicable)\n",
    "    chars[write] = chars[-1]\n",
    "    write += 1\n",
    "\n",
    "    if count > 1:\n",
    "        for digit in str(count):\n",
    "            chars[write] = digit\n",
    "            write += 1\n",
    "\n",
    "    return write\n",
    "\n",
    "\n",
    "chars = [\"a\", \"a\", \"b\", \"b\", \"c\", \"c\", \"c\"]\n",
    "result = compress(chars)\n",
    "print(result)  # Output: 6\n",
    "print(chars[:result])  # Output: ['a', '2', 'b', '2', 'c', '3']\n",
    "\n"
   ]
  },
  {
   "cell_type": "markdown",
   "id": "bee67bdb",
   "metadata": {},
   "source": [
    "<aside>\n",
    "💡 **Question 6**\n",
    "\n",
    "Given two strings s and p, return *an array of all the start indices of* p*'s anagrams in* s. You may return the answer in **any order**.\n",
    "\n",
    "An **Anagram** is a word or phrase formed by rearranging the letters of a different word or phrase, typically using all the original letters exactly once.\n",
    "\n",
    "**Example 1:**\n",
    "\n",
    "**Input:** s = \"cbaebabacd\", p = \"abc\"\n",
    "\n",
    "**Output:** [0,6]\n",
    "\n",
    "**Explanation:**\n",
    "\n",
    "The substring with start index = 0 is \"cba\", which is an anagram of \"abc\".\n",
    "\n",
    "The substring with start index = 6 is \"bac\", which is an anagram of \"abc\".\n",
    "\n",
    "</aside>"
   ]
  },
  {
   "cell_type": "code",
   "execution_count": 15,
   "id": "ad00e094",
   "metadata": {},
   "outputs": [
    {
     "name": "stdout",
     "output_type": "stream",
     "text": [
      "[0, 6]\n"
     ]
    }
   ],
   "source": [
    "def findAnagrams(s, p):\n",
    "    freq_p = [0] * 26\n",
    "    freq_window = [0] * 26\n",
    "\n",
    "    # Calculate the frequency of each character in p\n",
    "    for char in p:\n",
    "        freq_p[ord(char) - ord('a')] += 1\n",
    "\n",
    "    left = 0\n",
    "    count = 0\n",
    "    result = []\n",
    "\n",
    "    for right in range(len(s)):\n",
    "        # Increment the frequency of the character at the right pointer\n",
    "        freq_window[ord(s[right]) - ord('a')] += 1\n",
    "\n",
    "        # Increment count if the frequency is less than or equal to the frequency in p\n",
    "        if freq_window[ord(s[right]) - ord('a')] <= freq_p[ord(s[right]) - ord('a')]:\n",
    "            count += 1\n",
    "\n",
    "        # Check if the window size is equal to the length of p\n",
    "        if right - left + 1 == len(p):\n",
    "            # If count is equal to the length of p, add the left pointer to the result list\n",
    "            if count == len(p):\n",
    "                result.append(left)\n",
    "\n",
    "            # Move the left pointer to the right and update frequency and count\n",
    "            freq_window[ord(s[left]) - ord('a')] -= 1\n",
    "            if freq_window[ord(s[left]) - ord('a')] < freq_p[ord(s[left]) - ord('a')]:\n",
    "                count -= 1\n",
    "            left += 1\n",
    "\n",
    "    return result\n",
    "\n",
    "\n",
    "s = \"cbaebabacd\"\n",
    "p = \"abc\"\n",
    "result = findAnagrams(s, p)\n",
    "print(result)  # Output: [0, 6]\n"
   ]
  },
  {
   "cell_type": "markdown",
   "id": "c4920db3",
   "metadata": {},
   "source": [
    "<aside>\n",
    "💡 **Question 7**\n",
    "\n",
    "Given an encoded string, return its decoded string.\n",
    "\n",
    "The encoding rule is: k[encoded_string], where the encoded_string inside the square brackets is being repeated exactly k times. Note that k is guaranteed to be a positive integer.\n",
    "\n",
    "You may assume that the input string is always valid; there are no extra white spaces, square brackets are well-formed, etc. Furthermore, you may assume that the original data does not contain any digits and that digits are only for those repeat numbers, k. For example, there will not be input like 3a or 2[4].\n",
    "\n",
    "The test cases are generated so that the length of the output will never exceed 105.\n",
    "\n",
    "**Example 1:**\n",
    "\n",
    "**Input:** s = \"3[a]2[bc]\"\n",
    "\n",
    "**Output:** \"aaabcbc\"\n",
    "\n",
    "</aside>"
   ]
  },
  {
   "cell_type": "code",
   "execution_count": 16,
   "id": "b1d7dcb3",
   "metadata": {},
   "outputs": [
    {
     "name": "stdout",
     "output_type": "stream",
     "text": [
      "aaabcbc\n"
     ]
    }
   ],
   "source": [
    "def decodeString(s):\n",
    "    stack = []\n",
    "    curr_count = 0\n",
    "    curr_string = \"\"\n",
    "\n",
    "    for char in s:\n",
    "        if char.isdigit():\n",
    "            curr_count = curr_count * 10 + int(char)\n",
    "        elif char == \"[\":\n",
    "            stack.append((curr_count, curr_string))\n",
    "            curr_count = 0\n",
    "            curr_string = \"\"\n",
    "        elif char == \"]\":\n",
    "            count, prev_string = stack.pop()\n",
    "            curr_string = prev_string + curr_string * count\n",
    "        else:\n",
    "            curr_string += char\n",
    "\n",
    "    return curr_string\n",
    "\n",
    "s = \"3[a]2[bc]\"\n",
    "result = decodeString(s)\n",
    "print(result)  # Output: \"aaabcbc\"\n"
   ]
  },
  {
   "cell_type": "markdown",
   "id": "43034576",
   "metadata": {},
   "source": [
    "<aside>\n",
    "💡 **Question 8**\n",
    "\n",
    "Given two strings s and goal, return true *if you can swap two letters in* s *so the result is equal to* goal*, otherwise, return* false*.*\n",
    "\n",
    "Swapping letters is defined as taking two indices i and j (0-indexed) such that i != j and swapping the characters at s[i] and s[j].\n",
    "\n",
    "- For example, swapping at indices 0 and 2 in \"abcd\" results in \"cbad\".\n",
    "\n",
    "**Example 1:**\n",
    "\n",
    "**Input:** s = \"ab\", goal = \"ba\"\n",
    "\n",
    "**Output:** true\n",
    "\n",
    "**Explanation:** You can swap s[0] = 'a' and s[1] = 'b' to get \"ba\", which is equal to goal.\n",
    "\n",
    "</aside>"
   ]
  },
  {
   "cell_type": "code",
   "execution_count": 17,
   "id": "8c3a952d",
   "metadata": {},
   "outputs": [
    {
     "name": "stdout",
     "output_type": "stream",
     "text": [
      "True\n"
     ]
    }
   ],
   "source": [
    "def buddyStrings(s, goal):\n",
    "    if len(s) != len(goal):\n",
    "        return False\n",
    "\n",
    "    diff_count = 0\n",
    "    diff_positions = []\n",
    "\n",
    "    for i in range(len(s)):\n",
    "        if s[i] != goal[i]:\n",
    "            diff_count += 1\n",
    "            diff_positions.append(i)\n",
    "\n",
    "            if diff_count > 2:\n",
    "                return False\n",
    "\n",
    "    if diff_count == 0:\n",
    "        # Check if there are duplicate characters in s\n",
    "        return len(set(s)) < len(s)\n",
    "    elif diff_count == 2:\n",
    "        return s[diff_positions[0]] == goal[diff_positions[1]] and s[diff_positions[1]] == goal[diff_positions[0]]\n",
    "    else:\n",
    "        return False\n",
    "\n",
    "    \n",
    "s = \"ab\"\n",
    "goal = \"ba\"\n",
    "result = buddyStrings(s, goal)\n",
    "print(result)  # Output: True\n"
   ]
  },
  {
   "cell_type": "code",
   "execution_count": null,
   "id": "94ea7f8e",
   "metadata": {},
   "outputs": [],
   "source": []
  }
 ],
 "metadata": {
  "kernelspec": {
   "display_name": "Python 3",
   "language": "python",
   "name": "python3"
  },
  "language_info": {
   "codemirror_mode": {
    "name": "ipython",
    "version": 3
   },
   "file_extension": ".py",
   "mimetype": "text/x-python",
   "name": "python",
   "nbconvert_exporter": "python",
   "pygments_lexer": "ipython3",
   "version": "3.8.8"
  }
 },
 "nbformat": 4,
 "nbformat_minor": 5
}
