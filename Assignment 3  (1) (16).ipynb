{
 "cells": [
  {
   "cell_type": "markdown",
   "id": "f040b7a4",
   "metadata": {},
   "source": [
    "1. Scenario: A company wants to analyze the sales performance of its products in different regions. They have collected the following data:\n",
    "   Region A: [10, 15, 12, 8, 14]\n",
    "   Region B: [18, 20, 16, 22, 25]\n",
    "   Calculate the mean sales for each region."
   ]
  },
  {
   "cell_type": "code",
   "execution_count": 1,
   "id": "b226e47e",
   "metadata": {},
   "outputs": [
    {
     "name": "stdout",
     "output_type": "stream",
     "text": [
      "Mean sales in Region A: 11.8\n",
      "Mean sales in Region B: 20.2\n"
     ]
    }
   ],
   "source": [
    "def (region_sales):\n",
    "    total_sales = sum(region_sales)\n",
    "    mean_sales = total_sales / len(region_sales)\n",
    "    return mean_sales\n",
    "\n",
    "region_a_sales = [10, 15, 12, 8, 14]\n",
    "region_b_sales = [18, 20, 16, 22, 25]\n",
    "\n",
    "mean_a = calculate_mean_sales(region_a_sales)\n",
    "mean_b = calculate_mean_sales(region_b_sales)\n",
    "\n",
    "print(\"Mean sales in Region A:\", mean_a)\n",
    "print(\"Mean sales in Region B:\", mean_b)\n"
   ]
  },
  {
   "cell_type": "code",
   "execution_count": null,
   "id": "1c6f9d7b",
   "metadata": {},
   "outputs": [],
   "source": []
  },
  {
   "cell_type": "markdown",
   "id": "5ecc64aa",
   "metadata": {},
   "source": [
    "2. Scenario: A survey is conducted to measure customer satisfaction on a scale of 1 to 5. The data collected is as follows:\n",
    "   [4, 5, 2, 3, 5, 4, 3, 2, 4, 5]\n",
    "   Calculate the mode of the survey responses."
   ]
  },
  {
   "cell_type": "code",
   "execution_count": 6,
   "id": "75c006e7",
   "metadata": {},
   "outputs": [
    {
     "name": "stdout",
     "output_type": "stream",
     "text": [
      "te mode of suvrey 4\n"
     ]
    }
   ],
   "source": [
    "import statistics\n",
    "\n",
    "def calculate_mode(data):\n",
    "    mode = statistics.mode(data)\n",
    "    return mode\n",
    "\n",
    "survey=[4, 5, 2, 3, 5, 4, 3, 2, 4, 5]\n",
    "mode_value=calculate_mode(survey)\n",
    "print(\"te mode of suvrey\",mode_value)"
   ]
  },
  {
   "cell_type": "code",
   "execution_count": null,
   "id": "e42babc9",
   "metadata": {},
   "outputs": [],
   "source": []
  },
  {
   "cell_type": "markdown",
   "id": "ec9beb73",
   "metadata": {},
   "source": [
    "3. Scenario: A company wants to compare the salaries of two departments. The salary data for Department A and Department B are as follows:\n",
    "   Department A: [5000, 6000, 5500, 7000]\n",
    "   Department B: [4500, 5500, 5800, 6000, 5200]\n",
    "   Calculate the median salary for each department."
   ]
  },
  {
   "cell_type": "code",
   "execution_count": 7,
   "id": "6fc39c06",
   "metadata": {},
   "outputs": [
    {
     "name": "stdout",
     "output_type": "stream",
     "text": [
      "median of department A: 5750.0\n",
      "median of department B: 5500\n"
     ]
    }
   ],
   "source": [
    "def calculate_median(data):\n",
    "    median = statistics.median(data)\n",
    "    return median\n",
    "\n",
    "Department_A = [5000, 6000, 5500, 7000] \n",
    "Department_B = [4500, 5500, 5800, 6000, 5200]\n",
    "\n",
    "find_median_A = calculate_median(Department_A)\n",
    "find_median_B = calculate_median(Department_B)\n",
    "\n",
    "print(\"median of department A:\",find_median_A)\n",
    "print(\"median of department B:\",find_median_B)\n",
    "    "
   ]
  },
  {
   "cell_type": "code",
   "execution_count": null,
   "id": "e821dd7f",
   "metadata": {},
   "outputs": [],
   "source": []
  },
  {
   "cell_type": "markdown",
   "id": "dcefd22e",
   "metadata": {},
   "source": [
    "4. Scenario: A data analyst wants to determine the variability in the daily stock prices of a company. The data collected is as follows:\n",
    "   [25.5, 24.8, 26.1, 25.3, 24.9]\n",
    "   Calculate the range of the stock prices."
   ]
  },
  {
   "cell_type": "code",
   "execution_count": 9,
   "id": "c90bf82d",
   "metadata": {},
   "outputs": [
    {
     "name": "stdout",
     "output_type": "stream",
     "text": [
      "the range of stok price : 1.3000000000000007\n"
     ]
    }
   ],
   "source": [
    "def cal_stockprice(stock_price):\n",
    "    price_=max(stock_price) - min(stock_price)\n",
    "    return price_\n",
    "\n",
    "stock_data = [25.5, 24.8, 26.1, 25.3, 24.9]\n",
    "Range_stock =cal_stockprice(stock_data)\n",
    "print(\"the range of stok price :\",Range_stock)"
   ]
  },
  {
   "cell_type": "code",
   "execution_count": null,
   "id": "f0bb4e45",
   "metadata": {},
   "outputs": [],
   "source": []
  },
  {
   "cell_type": "markdown",
   "id": "fadae2a8",
   "metadata": {},
   "source": [
    "5. Scenario: A study is conducted to compare the performance of two different teaching methods. The test scores of the students in each group are as follows:\n",
    "   Group A: [85, 90, 92, 88, 91]\n",
    "   Group B: [82, 88, 90, 86, 87]\n",
    "   Perform a t-test to determine if there\n",
    "   \\is a significant difference in the mean scores between the two groups.\n"
   ]
  },
  {
   "cell_type": "code",
   "execution_count": 10,
   "id": "97dbea94",
   "metadata": {},
   "outputs": [
    {
     "name": "stdout",
     "output_type": "stream",
     "text": [
      "There is no significant difference in the mean scores between the two groups.\n",
      "T-statistic: 1.4312528946642733\n",
      "P-value: 0.19023970239078333\n"
     ]
    }
   ],
   "source": [
    "from scipy import stats\n",
    "\n",
    "def perform_t_test(group_a_scores, group_b_scores):\n",
    "    t_statistic, p_value = stats.ttest_ind(group_a_scores, group_b_scores)\n",
    "    return t_statistic, p_value\n",
    "\n",
    "group_a_scores = [85, 90, 92, 88, 91]\n",
    "group_b_scores = [82, 88, 90, 86, 87]\n",
    "\n",
    "t_stat, p_val = perform_t_test(group_a_scores, group_b_scores)\n",
    "\n",
    "alpha = 0.05  # significance level\n",
    "\n",
    "if p_val < alpha:\n",
    "    print(\"There is a significant difference in the mean scores between the two groups.\")\n",
    "else:\n",
    "    print(\"There is no significant difference in the mean scores between the two groups.\")\n",
    "\n",
    "print(\"T-statistic:\", t_stat)\n",
    "print(\"P-value:\", p_val)\n"
   ]
  },
  {
   "cell_type": "code",
   "execution_count": null,
   "id": "3948f245",
   "metadata": {},
   "outputs": [],
   "source": []
  },
  {
   "cell_type": "markdown",
   "id": "4923e504",
   "metadata": {},
   "source": [
    "6. Scenario: A company wants to analyze the relationship between advertising expenditure and sales. The data collected is as follows:\n",
    "   Advertising Expenditure (in thousands): [10, 15, 12, 8, 14]\n",
    "   Sales (in thousands): [25, 30, 28, 20, 26]\n",
    "   Calculate the correlation coefficient between advertising expenditure and sales."
   ]
  },
  {
   "cell_type": "code",
   "execution_count": 17,
   "id": "5ea8044c",
   "metadata": {},
   "outputs": [
    {
     "name": "stdout",
     "output_type": "stream",
     "text": [
      "coorelation between advartsing Ecpnediture and sale is: 0.8757511375750132\n"
     ]
    }
   ],
   "source": [
    "import numpy as np \n",
    "def find_corelation(data1,data2):\n",
    "    find=np.corrcoef(data1,data2)[0,1]\n",
    "    return find\n",
    "\n",
    "data1= [10, 15, 12, 8, 14]\n",
    "data2 = [25, 30, 28, 20, 26]\n",
    "\n",
    "corr=find_corelation(data1,data2)\n",
    "print(\"coorelation between advartsing Ecpnediture and sale is:\" ,corr)"
   ]
  },
  {
   "cell_type": "code",
   "execution_count": null,
   "id": "137528ee",
   "metadata": {},
   "outputs": [],
   "source": []
  },
  {
   "cell_type": "markdown",
   "id": "55ce0395",
   "metadata": {},
   "source": [
    "7. Scenario: A survey is conducted to measure the heights of a group of people. The data collected is as follows:\n",
    "   [160, 170, 165, 155, 175, 180, 170]\n",
    "   Calculate the standard deviation of the heights."
   ]
  },
  {
   "cell_type": "code",
   "execution_count": 21,
   "id": "6c909100",
   "metadata": {
    "scrolled": true
   },
   "outputs": [
    {
     "name": "stdout",
     "output_type": "stream",
     "text": [
      "Standard deviation of heights: 7.953949089757174\n"
     ]
    }
   ],
   "source": [
    "import math\n",
    "\n",
    "def calculate_standard_deviation(data):\n",
    "    mean = sum(data) / len(data)\n",
    "    deviations = [(x - mean) ** 2 for x in data]\n",
    "    variance = sum(deviations) / len(data)\n",
    "    standard_deviation = math.sqrt(variance)\n",
    "    return standard_deviation\n",
    "\n",
    "heights = [160, 170, 165, 155, 175, 180, 170]\n",
    "std_dev = calculate_standard_deviation(heights)\n",
    "\n",
    "print(\"Standard deviation of heights:\", std_dev)\n"
   ]
  },
  {
   "cell_type": "code",
   "execution_count": null,
   "id": "b4a0b163",
   "metadata": {},
   "outputs": [],
   "source": []
  },
  {
   "cell_type": "markdown",
   "id": "ac2dd8f3",
   "metadata": {},
   "source": [
    "8. Scenario: A company wants to analyze the relationship between employee tenure and job satisfaction. The data collected is as follows:\n",
    "   Employee Tenure (in years): [2, 3, 5, 4, 6, 2, 4]\n",
    "   Job Satisfaction (on a scale of 1 to 10): [7, 8, 6, 9, 5, 7, 6]\n",
    "   Perform a linear regression analysis to predict job satisfaction based on employee tenure."
   ]
  },
  {
   "cell_type": "code",
   "execution_count": 22,
   "id": "0eec45e7",
   "metadata": {},
   "outputs": [
    {
     "name": "stdout",
     "output_type": "stream",
     "text": [
      "Linear Regression Equation: job_satisfaction = -0.4680851063829787 * employee_tenure + 8.595744680851062\n"
     ]
    }
   ],
   "source": [
    "from sklearn.linear_model import LinearRegression\n",
    "import numpy as np\n",
    "\n",
    "employee_tenure = np.array([2, 3, 5, 4, 6, 2, 4]).reshape(-1, 1)\n",
    "job_satisfaction = np.array([7, 8, 6, 9, 5, 7, 6])\n",
    "\n",
    "# Create and fit the linear regression model\n",
    "regression_model = LinearRegression()\n",
    "regression_model.fit(employee_tenure, job_satisfaction)\n",
    "\n",
    "# Predict job satisfaction based on employee tenure\n",
    "predicted_satisfaction = regression_model.predict(employee_tenure)\n",
    "\n",
    "# Get the coefficients of the linear regression model\n",
    "slope = regression_model.coef_[0]\n",
    "intercept = regression_model.intercept_\n",
    "\n",
    "print(\"Linear Regression Equation: job_satisfaction =\", slope, \"* employee_tenure +\", intercept)\n"
   ]
  },
  {
   "cell_type": "code",
   "execution_count": null,
   "id": "168a6b34",
   "metadata": {},
   "outputs": [],
   "source": []
  },
  {
   "cell_type": "markdown",
   "id": "64d3bd02",
   "metadata": {},
   "source": [
    "9. Scenario: A study is conducted to compare the effectiveness of two different medications. The recovery times of the patients in each group are as follows:\n",
    "   Medication A: [10, 12, 14, 11, 13]\n",
    "   Medication B: [15, 17, 16, 14, 18]\n",
    "   Perform an analysis of variance (ANOVA) to determine if there is a significant difference in the mean recovery times between the two medications."
   ]
  },
  {
   "cell_type": "code",
   "execution_count": 23,
   "id": "aff347f9",
   "metadata": {},
   "outputs": [
    {
     "name": "stdout",
     "output_type": "stream",
     "text": [
      "There is a significant difference in the mean recovery times between the two medications.\n",
      "F-statistic: 16.0\n",
      "P-value: 0.003949772803445326\n"
     ]
    }
   ],
   "source": [
    "from scipy import stats\n",
    "\n",
    "def perform_anova(medication_a_recovery_times, medication_b_recovery_times):\n",
    "    f_statistic, p_value = stats.f_oneway(medication_a_recovery_times, medication_b_recovery_times)\n",
    "    return f_statistic, p_value\n",
    "\n",
    "medication_a_recovery_times = [10, 12, 14, 11, 13]\n",
    "medication_b_recovery_times = [15, 17, 16, 14, 18]\n",
    "\n",
    "f_stat, p_val = perform_anova(medication_a_recovery_times, medication_b_recovery_times)\n",
    "\n",
    "alpha = 0.05  # significance level\n",
    "\n",
    "if p_val < alpha:\n",
    "    print(\"There is a significant difference in the mean recovery times between the two medications.\")\n",
    "else:\n",
    "    print(\"There is no significant difference in the mean recovery times between the two medications.\")\n",
    "\n",
    "print(\"F-statistic:\", f_stat)\n",
    "print(\"P-value:\", p_val)\n"
   ]
  },
  {
   "cell_type": "code",
   "execution_count": null,
   "id": "56fc103c",
   "metadata": {},
   "outputs": [],
   "source": []
  },
  {
   "cell_type": "markdown",
   "id": "ea01b9c2",
   "metadata": {},
   "source": [
    "\n",
    "10. Scenario: A company wants to analyze customer feedback ratings on a scale of 1 to 10. The data collected is\n",
    "\n",
    " as follows:\n",
    "    [8, 9, 7, 6, 8, 10, 9, 8, 7, 8]\n",
    "    Calculate the 75th percentile of the feedback ratings.\n"
   ]
  },
  {
   "cell_type": "code",
   "execution_count": 27,
   "id": "75856f2c",
   "metadata": {},
   "outputs": [
    {
     "name": "stdout",
     "output_type": "stream",
     "text": [
      "75th percentile of feedback ratings: 8.75\n"
     ]
    }
   ],
   "source": [
    "import numpy as np\n",
    "\n",
    "feedback_ratings = [8, 9, 7, 6, 8, 10, 9, 8, 7, 8]\n",
    "\n",
    "percentile_75 = np.percentile(feedback_ratings, 75)\n",
    "\n",
    "print(\"75th percentile of feedback ratings:\", percentile_75)\n"
   ]
  },
  {
   "cell_type": "code",
   "execution_count": null,
   "id": "200b601b",
   "metadata": {},
   "outputs": [],
   "source": []
  },
  {
   "cell_type": "markdown",
   "id": "1d004ae2",
   "metadata": {},
   "source": [
    "11. Scenario: A quality control department wants to test the weight consistency of a product. The weights of a sample of products are as follows:\n",
    "    [10.2, 9.8, 10.0, 10.5, 10.3, 10.1]\n",
    "    Perform a hypothesis test to determine if the mean weight differs significantly from 10 grams.\n"
   ]
  },
  {
   "cell_type": "code",
   "execution_count": 28,
   "id": "0dfbf7a8",
   "metadata": {},
   "outputs": [
    {
     "name": "stdout",
     "output_type": "stream",
     "text": [
      "The mean weight does not differ significantly from 10.0 grams.\n",
      "T-statistic: 1.5126584522688367\n",
      "P-value: 0.19077595151110102\n"
     ]
    }
   ],
   "source": [
    "from scipy import stats\n",
    "\n",
    "def perform_one_sample_t_test(sample_data, hypothesized_mean):\n",
    "    t_statistic, p_value = stats.ttest_1samp(sample_data, hypothesized_mean)\n",
    "    return t_statistic, p_value\n",
    "\n",
    "sample_weights = [10.2, 9.8, 10.0, 10.5, 10.3, 10.1]\n",
    "hypothesized_mean = 10.0\n",
    "\n",
    "t_stat, p_val = perform_one_sample_t_test(sample_weights, hypothesized_mean)\n",
    "\n",
    "alpha = 0.05  # significance level\n",
    "\n",
    "if p_val < alpha:\n",
    "    print(\"The mean weight differs significantly from\", hypothesized_mean, \"grams.\")\n",
    "else:\n",
    "    print(\"The mean weight does not differ significantly from\", hypothesized_mean, \"grams.\")\n",
    "\n",
    "print(\"T-statistic:\", t_stat)\n",
    "print(\"P-value:\", p_val)\n"
   ]
  },
  {
   "cell_type": "code",
   "execution_count": null,
   "id": "4787424d",
   "metadata": {},
   "outputs": [],
   "source": []
  },
  {
   "cell_type": "markdown",
   "id": "0fcf9d6f",
   "metadata": {},
   "source": [
    "12. Scenario: A company wants to analyze the click-through rates of two different website designs. The number of clicks for each design is as follows:\n",
    "    Design A: [100, 120, 110, 90, 95]\n",
    "    Design B: [80, 85, 90, 95, 100]\n",
    "    Perform a chi-square test to determine if there is a significant difference in the click-through rates between the two designs.\n"
   ]
  },
  {
   "cell_type": "code",
   "execution_count": 29,
   "id": "1c7769cf",
   "metadata": {},
   "outputs": [
    {
     "name": "stdout",
     "output_type": "stream",
     "text": [
      "Chi-square statistic: 6.110658166925435\n",
      "P-value: 0.19103526314060293\n",
      "There is no significant difference in click-through rates between the two designs.\n"
     ]
    }
   ],
   "source": [
    "import numpy as np\n",
    "from scipy.stats import chi2_contingency\n",
    "\n",
    "def chi_square_test(clicks_design_a, clicks_design_b):\n",
    "    # Convert the click data into numpy arrays\n",
    "    clicks_design_a = np.array(clicks_design_a)\n",
    "    clicks_design_b = np.array(clicks_design_b)\n",
    "\n",
    "    # Create a contingency table\n",
    "    contingency_table = np.array([clicks_design_a, clicks_design_b])\n",
    "\n",
    "    # Perform the chi-square test\n",
    "    chi2, p_value, _, _ = chi2_contingency(contingency_table)\n",
    "\n",
    "    # Print the results\n",
    "    print(\"Chi-square statistic:\", chi2)\n",
    "    print(\"P-value:\", p_value)\n",
    "\n",
    "    # Check if the difference is statistically significant\n",
    "    alpha = 0.05  # significance level\n",
    "    if p_value < alpha:\n",
    "        print(\"There is a significant difference in click-through rates between the two designs.\")\n",
    "    else:\n",
    "        print(\"There is no significant difference in click-through rates between the two designs.\")\n",
    "\n",
    "# Example usage\n",
    "clicks_design_a = [100, 120, 110, 90, 95]\n",
    "clicks_design_b = [80, 85, 90, 95, 100]\n",
    "chi_square_test(clicks_design_a, clicks_design_b)\n"
   ]
  },
  {
   "cell_type": "code",
   "execution_count": null,
   "id": "134a7677",
   "metadata": {},
   "outputs": [],
   "source": []
  },
  {
   "cell_type": "markdown",
   "id": "c844d4a9",
   "metadata": {},
   "source": [
    "13. Scenario: A survey is conducted to measure customer satisfaction with a product on a scale of 1 to 10. The data collected is as follows:\n",
    "    [7, 9, 6, 8, 10, 7, 8, 9, 7, 8]\n",
    "    Calculate the 95% confidence interval for the population mean satisfaction score."
   ]
  },
  {
   "cell_type": "code",
   "execution_count": 30,
   "id": "25358018",
   "metadata": {},
   "outputs": [
    {
     "name": "stdout",
     "output_type": "stream",
     "text": [
      "95% Confidence Interval: [7.04, 8.76]\n"
     ]
    }
   ],
   "source": [
    "import numpy as np\n",
    "from scipy import stats\n",
    "\n",
    "def calculate_confidence_interval(data, confidence=0.95):\n",
    "    n = len(data)\n",
    "    sample_mean = np.mean(data)\n",
    "    sample_std = np.std(data, ddof=1)\n",
    "    standard_error = sample_std / np.sqrt(n)\n",
    "    critical_value = stats.t.ppf((1 + confidence) / 2, df=n - 1)\n",
    "    margin_of_error = critical_value * standard_error\n",
    "    lower_bound = sample_mean - margin_of_error\n",
    "    upper_bound = sample_mean + margin_of_error\n",
    "    return lower_bound, upper_bound\n",
    "\n",
    "# Example usage\n",
    "satisfaction_scores = [7, 9, 6, 8, 10, 7, 8, 9, 7, 8]\n",
    "lower, upper = calculate_confidence_interval(satisfaction_scores, confidence=0.95)\n",
    "print(\"95% Confidence Interval: [{:.2f}, {:.2f}]\".format(lower, upper))\n"
   ]
  },
  {
   "cell_type": "code",
   "execution_count": null,
   "id": "749c77a1",
   "metadata": {},
   "outputs": [],
   "source": []
  },
  {
   "cell_type": "markdown",
   "id": "a49f8977",
   "metadata": {},
   "source": [
    "14. Scenario: A company wants to analyze the effect of temperature on product performance. The data collected is as follows:\n",
    "    Temperature (in degrees Celsius): [20, 22, 23, 19, 21]\n",
    "    Performance (on a scale of 1 to 10): [8, 7, 9, 6, 8]\n",
    "    Perform a simple linear regression to predict performance based on temperature.\n"
   ]
  },
  {
   "cell_type": "code",
   "execution_count": 32,
   "id": "7f3868e4",
   "metadata": {},
   "outputs": [
    {
     "name": "stdout",
     "output_type": "stream",
     "text": [
      "Mann-Whitney U test statistic: 17.0\n",
      "P-value: 0.380836480306712\n",
      "There is no significant difference in the median preferences between the two groups.\n"
     ]
    }
   ],
   "source": [
    "import numpy as np\n",
    "from scipy.stats import mannwhitneyu\n",
    "\n",
    "# Preferences data\n",
    "group_a = np.array([4, 3, 5, 2, 4])\n",
    "group_b = np.array([3, 2, 4, 3, 3])\n",
    "\n",
    "# Perform the Mann-Whitney U test\n",
    "statistic, p_value = mannwhitneyu(group_a, group_b)\n",
    "\n",
    "# Print the results\n",
    "print(\"Mann-Whitney U test statistic:\", statistic)\n",
    "print(\"P-value:\", p_value)\n",
    "\n",
    "# Check if the difference is statistically significant\n",
    "alpha = 0.05  # significance level\n",
    "if p_value < alpha:\n",
    "    print(\"There is a significant difference in the median preferences between the two groups.\")\n",
    "else:\n",
    "    print(\"There is no significant difference in the median preferences between the two groups.\")\n"
   ]
  },
  {
   "cell_type": "code",
   "execution_count": null,
   "id": "048357db",
   "metadata": {},
   "outputs": [],
   "source": []
  },
  {
   "cell_type": "markdown",
   "id": "b01fc7a5",
   "metadata": {},
   "source": [
    "16. Scenario: A company wants to analyze the distribution of customer ages. The data collected is as follows:\n",
    "    [25, 30, 35, 40, 45, 50, 55, 60, 65, 70]\n",
    "    Calculate the interquartile range (IQR) of the ages."
   ]
  },
  {
   "cell_type": "code",
   "execution_count": 34,
   "id": "f4b9ba01",
   "metadata": {},
   "outputs": [
    {
     "name": "stdout",
     "output_type": "stream",
     "text": [
      "Interquartile Range (IQR): 25\n"
     ]
    }
   ],
   "source": [
    "# Age data\n",
    "ages = np.array([25, 30, 35, 40, 45, 50, 55, 60, 65, 70])\n",
    "\n",
    "# Sort the data\n",
    "sorted_ages = np.sort(ages)\n",
    "\n",
    "# Calculate the first quartile (Q1)\n",
    "q1_index = int(np.ceil(len(sorted_ages) * 0.25))\n",
    "q1 = sorted_ages[q1_index]\n",
    "\n",
    "# Calculate the third quartile (Q3)\n",
    "q3_index = int(np.ceil(len(sorted_ages) * 0.75))\n",
    "q3 = sorted_ages[q3_index]\n",
    "\n",
    "# Calculate the interquartile range (IQR)\n",
    "iqr = q3 - q1\n",
    "\n",
    "# Print the result\n",
    "print(\"Interquartile Range (IQR):\", iqr)\n"
   ]
  },
  {
   "cell_type": "code",
   "execution_count": null,
   "id": "286fd16b",
   "metadata": {},
   "outputs": [],
   "source": []
  },
  {
   "cell_type": "markdown",
   "id": "9da695cf",
   "metadata": {},
   "source": [
    "17. Scenario: A study is conducted to compare the performance of three different machine learning algorithms. The accuracy scores for each algorithm are as follows:\n",
    "    Algorithm A: [0.85, 0.80, 0.82, 0.87, 0.83]\n",
    "    Algorithm B: [0.78, 0.82, 0.84, 0.80, 0.79]\n",
    "    Algorithm C: [0.90, 0.88, 0.89, 0.86, 0.87]\n",
    "    Perform a Kruskal-Wallis test to determine if there is a significant difference in the median accuracy scores between the algorithms.\n"
   ]
  },
  {
   "cell_type": "code",
   "execution_count": 35,
   "id": "e7937364",
   "metadata": {},
   "outputs": [
    {
     "name": "stdout",
     "output_type": "stream",
     "text": [
      "Kruskal-Wallis test statistic: 9.696947935368053\n",
      "P-value: 0.007840333026249539\n",
      "There is a significant difference in the median accuracy scores between the algorithms.\n"
     ]
    }
   ],
   "source": [
    "import numpy as np\n",
    "from scipy.stats import kruskal\n",
    "\n",
    "# Accuracy scores data\n",
    "algorithm_a = np.array([0.85, 0.80, 0.82, 0.87, 0.83])\n",
    "algorithm_b = np.array([0.78, 0.82, 0.84, 0.80, 0.79])\n",
    "algorithm_c = np.array([0.90, 0.88, 0.89, 0.86, 0.87])\n",
    "\n",
    "# Perform the Kruskal-Wallis test\n",
    "statistic, p_value = kruskal(algorithm_a, algorithm_b, algorithm_c)\n",
    "\n",
    "# Print the results\n",
    "print(\"Kruskal-Wallis test statistic:\", statistic)\n",
    "print(\"P-value:\", p_value)\n",
    "\n",
    "# Check if the difference is statistically significant\n",
    "alpha = 0.05  # significance level\n",
    "if p_value < alpha:\n",
    "    print(\"There is a significant difference in the median accuracy scores between the algorithms.\")\n",
    "else:\n",
    "    print(\"There is no significant difference in the median accuracy scores between the algorithms.\")\n"
   ]
  },
  {
   "cell_type": "code",
   "execution_count": null,
   "id": "1e361f46",
   "metadata": {},
   "outputs": [],
   "source": []
  },
  {
   "cell_type": "markdown",
   "id": "913e2275",
   "metadata": {},
   "source": [
    "Scenario: A study is conducted to compare the effectiveness of three different treatments for a specific medical condition. The number of patients who responded positively to each treatment is as follows:\n",
    "Treatment A: 45 patients responded positively\n",
    "Treatment B: 52 patients responded positively\n",
    "Treatment C: 40 patients responded positively\n",
    "Perform a chi-square test to determine if there is a significant difference in the effectiveness of the treatments."
   ]
  },
  {
   "cell_type": "code",
   "execution_count": 36,
   "id": "d128c91a",
   "metadata": {},
   "outputs": [
    {
     "name": "stdout",
     "output_type": "stream",
     "text": [
      "Chi-square statistic: 0.0\n",
      "P-value: 1.0\n",
      "Degrees of freedom: 0\n",
      "There is no significant difference in the effectiveness of the treatments.\n"
     ]
    }
   ],
   "source": [
    "import numpy as np\n",
    "from scipy.stats import chi2_contingency\n",
    "\n",
    "# Positive response counts data\n",
    "treatment_a_count = 45\n",
    "treatment_b_count = 52\n",
    "treatment_c_count = 40\n",
    "\n",
    "# Create a contingency table\n",
    "contingency_table = np.array([[treatment_a_count], [treatment_b_count], [treatment_c_count]])\n",
    "\n",
    "# Perform the chi-square test\n",
    "chi2, p_value, dof, _ = chi2_contingency(contingency_table)\n",
    "\n",
    "# Print the results\n",
    "print(\"Chi-square statistic:\", chi2)\n",
    "print(\"P-value:\", p_value)\n",
    "print(\"Degrees of freedom:\", dof)\n",
    "\n",
    "# Check if the difference is statistically significant\n",
    "alpha = 0.05  # significance level\n",
    "if p_value < alpha:\n",
    "    print(\"There is a significant difference in the effectiveness of the treatments.\")\n",
    "else:\n",
    "    print(\"There is no significant difference in the effectiveness of the treatments.\")\n"
   ]
  },
  {
   "cell_type": "code",
   "execution_count": null,
   "id": "6fb593cd",
   "metadata": {},
   "outputs": [],
   "source": []
  },
  {
   "cell_type": "markdown",
   "id": "117ddcb0",
   "metadata": {},
   "source": [
    "19. Scenario: A survey is conducted to measure the satisfaction levels of customers with a new product. The data collected is as follows:\n",
    "    [7, 8, 9, 6, 8, 7, 9, 7, 8, 7]\n",
    "    Calculate the standard error of the mean satisfaction score."
   ]
  },
  {
   "cell_type": "code",
   "execution_count": 37,
   "id": "8b75f6c3",
   "metadata": {},
   "outputs": [
    {
     "name": "stdout",
     "output_type": "stream",
     "text": [
      "Standard Error of the Mean: 0.30550504633038933\n"
     ]
    }
   ],
   "source": [
    "import numpy as np\n",
    "from scipy.stats import sem\n",
    "\n",
    "# Satisfaction scores data\n",
    "satisfaction_scores = np.array([7, 8, 9, 6, 8, 7, 9, 7, 8, 7])\n",
    "\n",
    "# Calculate the standard error of the mean\n",
    "standard_error = sem(satisfaction_scores)\n",
    "\n",
    "# Print the result\n",
    "print(\"Standard Error of the Mean:\", standard_error)\n"
   ]
  },
  {
   "cell_type": "code",
   "execution_count": null,
   "id": "9dbe0a98",
   "metadata": {},
   "outputs": [],
   "source": []
  },
  {
   "cell_type": "markdown",
   "id": "9b669bfa",
   "metadata": {},
   "source": [
    "20. Scenario: A company wants to analyze the relationship between advertising expenditure and sales. The data collected is as follows:\n",
    "    Advertising Expenditure (in thousands): [10, 15, 12, 8, 14]\n",
    "    Sales (in thousands): [25, 30, 28, 20, 26]\n",
    "    Perform a multiple regression analysis to predict sales based on advertising expenditure."
   ]
  },
  {
   "cell_type": "code",
   "execution_count": 39,
   "id": "bbc1d00a",
   "metadata": {},
   "outputs": [
    {
     "name": "stdout",
     "output_type": "stream",
     "text": [
      "Coefficients: [1.15243902]\n",
      "Intercept: 12.20121951219512\n",
      "Predicted Sales for New Advertising Expenditure: [32.94512195 35.25      ]\n",
      "R-squared: 0.7669400549639299\n",
      "Mean Squared Error: 2.647560975609756\n"
     ]
    }
   ],
   "source": [
    "import numpy as np\n",
    "from sklearn.linear_model import LinearRegression\n",
    "from sklearn.metrics import r2_score, mean_squared_error\n",
    "\n",
    "# Advertising expenditure data\n",
    "advertising_expenditure = np.array([10, 15, 12, 8, 14])\n",
    "\n",
    "# Sales data\n",
    "sales = np.array([25, 30, 28, 20, 26])\n",
    "\n",
    "# Reshape the data into a 2D array\n",
    "X = advertising_expenditure.reshape(-1, 1)\n",
    "y = sales\n",
    "\n",
    "# Create a multiple linear regression model\n",
    "model = LinearRegression()\n",
    "\n",
    "# Fit the model\n",
    "model.fit(X, y)\n",
    "\n",
    "# Obtain the coefficients and intercept\n",
    "coefficients = model.coef_\n",
    "intercept = model.intercept_\n",
    "\n",
    "# Predict sales for new advertising expenditure values\n",
    "new_advertising_expenditure = np.array([18, 20]).reshape(-1, 1)\n",
    "predicted_sales = model.predict(new_advertising_expenditure)\n",
    "\n",
    "# Evaluate the model's performance\n",
    "r2 = r2_score(y, model.predict(X))\n",
    "mse = mean_squared_error(y, model.predict(X))\n",
    "\n",
    "# Print the results\n",
    "print(\"Coefficients:\", coefficients)\n",
    "print(\"Intercept:\", intercept)\n",
    "print(\"Predicted Sales for New Advertising Expenditure:\", predicted_sales)\n",
    "print(\"R-squared:\", r2)\n",
    "print(\"Mean Squared Error:\", mse)\n"
   ]
  },
  {
   "cell_type": "code",
   "execution_count": null,
   "id": "4325703c",
   "metadata": {},
   "outputs": [],
   "source": []
  }
 ],
 "metadata": {
  "kernelspec": {
   "display_name": "Python 3 (ipykernel)",
   "language": "python",
   "name": "python3"
  },
  "language_info": {
   "codemirror_mode": {
    "name": "ipython",
    "version": 3
   },
   "file_extension": ".py",
   "mimetype": "text/x-python",
   "name": "python",
   "nbconvert_exporter": "python",
   "pygments_lexer": "ipython3",
   "version": "3.10.9"
  }
 },
 "nbformat": 4,
 "nbformat_minor": 5
}
