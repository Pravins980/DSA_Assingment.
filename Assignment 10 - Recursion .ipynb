{
 "cells": [
  {
   "cell_type": "markdown",
   "id": "08921ca1",
   "metadata": {},
   "source": [
    "<aside>\n",
    "💡 **Question 1**\n",
    "\n",
    "Given an integer `n`, return *`true` if it is a power of three. Otherwise, return `false`*.\n",
    "\n",
    "An integer `n` is a power of three, if there exists an integer `x` such that `n == 3x`.\n",
    "\n",
    "**Example 1:**\n",
    "\n",
    "```\n",
    "Input: n = 27\n",
    "Output: true\n",
    "Explanation: 27 = 33\n",
    "```\n",
    "\n",
    "**Example 2:**\n",
    "\n",
    "```\n",
    "Input: n = 0\n",
    "Output: false\n",
    "Explanation: There is no x where 3x = 0.\n",
    "\n",
    "```\n",
    "\n",
    "**Example 3:**\n",
    "\n",
    "```\n",
    "Input: n = -1\n",
    "Output: false\n",
    "Explanation: There is no x where 3x = (-1).\n",
    "```\n",
    "\n",
    "</aside>"
   ]
  },
  {
   "cell_type": "code",
   "execution_count": 10,
   "id": "414e56dd",
   "metadata": {},
   "outputs": [
    {
     "name": "stdout",
     "output_type": "stream",
     "text": [
      "True\n",
      "False\n",
      "False\n"
     ]
    }
   ],
   "source": [
    "def power_of_three(n):\n",
    "    if n <=0 :\n",
    "        return False\n",
    "    \n",
    "    while n%3==0:\n",
    "        n /= 3\n",
    "        \n",
    "    return n==1\n",
    "\n",
    "print(power_of_three(27))\n",
    "print(power_of_three(0))\n",
    "print(power_of_three(-1))"
   ]
  },
  {
   "cell_type": "code",
   "execution_count": null,
   "id": "d4d6bf9c",
   "metadata": {},
   "outputs": [],
   "source": []
  },
  {
   "cell_type": "markdown",
   "id": "390ac963",
   "metadata": {},
   "source": [
    "<aside>\n",
    "💡 **Question 2**\n",
    "\n",
    "You have a list `arr` of all integers in the range `[1, n]` sorted in a strictly increasing order. Apply the following algorithm on `arr`:\n",
    "\n",
    "- Starting from left to right, remove the first number and every other number afterward until you reach the end of the list.\n",
    "- Repeat the previous step again, but this time from right to left, remove the rightmost number and every other number from the remaining numbers.\n",
    "- Keep repeating the steps again, alternating left to right and right to left, until a single number remains.\n",
    "\n",
    "Given the integer `n`, return *the last number that remains in* `arr`.\n",
    "\n",
    "**Example 1:**\n",
    "\n",
    "```\n",
    "Input: n = 9\n",
    "Output: 6\n",
    "Explanation:\n",
    "arr = [1, 2,3, 4,5, 6,7, 8,9]\n",
    "arr = [2,4, 6,8]\n",
    "arr = [2, 6]\n",
    "arr = [6]\n",
    "\n",
    "```\n",
    "\n",
    "**Example 2:**\n",
    "\n",
    "</aside>"
   ]
  },
  {
   "cell_type": "code",
   "execution_count": 11,
   "id": "57935d7d",
   "metadata": {},
   "outputs": [
    {
     "name": "stdout",
     "output_type": "stream",
     "text": [
      "6\n"
     ]
    }
   ],
   "source": [
    "def lastRemaining(n):\n",
    "    arr=list(range(1, n+1))\n",
    "    \n",
    "    left_to_right= True\n",
    "    \n",
    "    while len(arr) > 1:\n",
    "        if left_to_right:\n",
    "            arr = arr[1::2]\n",
    "        else:\n",
    "            arr = arr[-2::-2][::-1]\n",
    "        \n",
    "        left_to_right = not left_to_right\n",
    "    \n",
    "    return arr[0]\n",
    "\n",
    "print(lastRemaining(9))\n",
    "        "
   ]
  },
  {
   "cell_type": "code",
   "execution_count": null,
   "id": "33cedba2",
   "metadata": {},
   "outputs": [],
   "source": []
  },
  {
   "cell_type": "code",
   "execution_count": null,
   "id": "f2238418",
   "metadata": {},
   "outputs": [],
   "source": []
  },
  {
   "cell_type": "markdown",
   "id": "4ee25f9a",
   "metadata": {},
   "source": [
    "<aside>\n",
    "💡 **Question 3**\n",
    "\n",
    "****Given a set represented as a string, write a recursive code to print all subsets of it. The subsets can be printed in any order.\n",
    "\n",
    "**Example 1:**\n",
    "\n",
    "Input :  set = “abc”\n",
    "\n",
    "Output : { “”, “a”, “b”, “c”, “ab”, “ac”, “bc”, “abc”}\n",
    "\n",
    "**Example 2:**\n",
    "\n",
    "Input : set = “abcd”\n",
    "\n",
    "Output : { “”, “a” ,”ab” ,”abc” ,”abcd”, “abd” ,”ac” ,”acd”, “ad” ,”b”, “bc” ,”bcd” ,”bd” ,”c” ,”cd” ,”d” }\n",
    "\n",
    "</aside>"
   ]
  },
  {
   "cell_type": "code",
   "execution_count": 43,
   "id": "249402bb",
   "metadata": {},
   "outputs": [
    {
     "name": "stdout",
     "output_type": "stream",
     "text": [
      "['abc', 'ab', 'ac', 'a', 'bc', 'b', 'c', '']\n",
      "['abcd', 'abc', 'abd', 'ab', 'acd', 'ac', 'ad', 'a', 'bcd', 'bc', 'bd', 'b', 'cd', 'c', 'd', '']\n"
     ]
    }
   ],
   "source": [
    "def subsets(set_str):\n",
    "    result = []\n",
    "    generate_subsets(0, set_str, '', result)\n",
    "    return result\n",
    "\n",
    "def generate_subsets(index, set_str, temp, result):\n",
    "    if index == len(set_str):\n",
    "        result.append(temp)\n",
    "        return\n",
    "    \n",
    "    generate_subsets(index + 1, set_str, temp + set_str[index], result)\n",
    "    generate_subsets(index + 1, set_str, temp, result)\n",
    "\n",
    "# Example 1\n",
    "set1 = \"abc\"\n",
    "print(subsets(set1))\n",
    "\n",
    "# Example 2\n",
    "set2 = \"abcd\"\n",
    "print(subsets(set2))\n"
   ]
  },
  {
   "cell_type": "code",
   "execution_count": null,
   "id": "562ca999",
   "metadata": {},
   "outputs": [],
   "source": []
  },
  {
   "cell_type": "markdown",
   "id": "2288b50a",
   "metadata": {},
   "source": [
    "<aside>\n",
    "💡 **Question 4**\n",
    "\n",
    "Given a string calculate length of the string using recursion.\n",
    "\n",
    "**Examples:**\n",
    "\n",
    "</aside>"
   ]
  },
  {
   "cell_type": "code",
   "execution_count": 47,
   "id": "961c1fa6",
   "metadata": {},
   "outputs": [],
   "source": [
    "def calculate(input1):\n",
    "    if input1 == \"\":\n",
    "        return 0\n",
    "    else:\n",
    "        return 1 + calculate(input1[1:])\n",
    "\n",
    "Input : str = \"abcd\"\n",
    "Output :4\n",
    "\n",
    "Input : str = \"GEEKSFORGEEKS\"\n",
    "Output :13"
   ]
  },
  {
   "cell_type": "code",
   "execution_count": 48,
   "id": "849c652b",
   "metadata": {},
   "outputs": [
    {
     "data": {
      "text/plain": [
       "4"
      ]
     },
     "execution_count": 48,
     "metadata": {},
     "output_type": "execute_result"
    }
   ],
   "source": [
    "calculate(\"abcd\")"
   ]
  },
  {
   "cell_type": "code",
   "execution_count": 49,
   "id": "0eec4f39",
   "metadata": {},
   "outputs": [
    {
     "data": {
      "text/plain": [
       "13"
      ]
     },
     "execution_count": 49,
     "metadata": {},
     "output_type": "execute_result"
    }
   ],
   "source": [
    "calculate(\"GEEKSFORGEEKS\")"
   ]
  },
  {
   "cell_type": "code",
   "execution_count": null,
   "id": "5d576975",
   "metadata": {},
   "outputs": [],
   "source": []
  },
  {
   "cell_type": "markdown",
   "id": "27d55a10",
   "metadata": {},
   "source": [
    "5 : We are given a string S, we need to find count of all contiguous substrings starting and ending with same character.\n",
    "\n",
    "**Examples :**"
   ]
  },
  {
   "cell_type": "code",
   "execution_count": 67,
   "id": "9faa5e0f",
   "metadata": {},
   "outputs": [
    {
     "name": "stdout",
     "output_type": "stream",
     "text": [
      "4\n"
     ]
    }
   ],
   "source": [
    "def contiguous_substrings(string):\n",
    "    count=0\n",
    "    length = len(string)\n",
    "    \n",
    "    for i in range(length):\n",
    "        for j in range(i,length):\n",
    "            if string[i]==string[j]:\n",
    "                count += 1\n",
    "    return count\n",
    "\n",
    "\n",
    "\n",
    "S = \"aba\"\n",
    "print(contiguous_substrings(S))\n",
    "#Output : 4\n",
    "#The substrings are a, b, a and aba"
   ]
  },
  {
   "cell_type": "code",
   "execution_count": null,
   "id": "88b4f9ce",
   "metadata": {},
   "outputs": [],
   "source": []
  },
  {
   "cell_type": "markdown",
   "id": "670bb09b",
   "metadata": {},
   "source": [
    "<aside>\n",
    "💡 **Question 6**\n",
    "\n",
    "The [tower of Hanoi](https://en.wikipedia.org/wiki/Tower_of_Hanoi) is a famous puzzle where we have three rods and **N** disks. The objective of the puzzle is to move the entire stack to another rod. You are given the number of discs **N**. Initially, these discs are in the rod 1. You need to print all the steps of discs movement so that all the discs reach the 3rd rod. Also, you need to find the total moves.**Note:** The discs are arranged such that the **top disc is numbered 1** and the **bottom-most disc is numbered N**. Also, all the discs have **different sizes** and a bigger disc **cannot** be put on the top of a smaller disc. Refer the provided link to get a better clarity about the puzzle.\n",
    "\n",
    "**Example 1:**\n",
    "\n",
    "</aside>"
   ]
  },
  {
   "cell_type": "code",
   "execution_count": 68,
   "id": "291a8b24",
   "metadata": {},
   "outputs": [
    {
     "name": "stdout",
     "output_type": "stream",
     "text": [
      "Move disk 1 from Rod 1 to Rod 3\n",
      "Move disk 2 from Rod 1 to Rod 2\n",
      "Move disk 1 from Rod 3 to Rod 2\n",
      "Move disk 3 from Rod 1 to Rod 3\n",
      "Move disk 1 from Rod 2 to Rod 1\n",
      "Move disk 2 from Rod 2 to Rod 3\n",
      "Move disk 1 from Rod 1 to Rod 3\n",
      "Total moves: 7\n"
     ]
    }
   ],
   "source": [
    "def tower_of_hanoi(n, source, destination, auxiliary):\n",
    "    if n == 1:\n",
    "        print(f\"Move disk 1 from {source} to {destination}\")\n",
    "        return 1\n",
    "    else:\n",
    "        moves = 0\n",
    "        moves += tower_of_hanoi(n - 1, source, auxiliary, destination)\n",
    "        print(f\"Move disk {n} from {source} to {destination}\")\n",
    "        moves += 1\n",
    "        moves += tower_of_hanoi(n - 1, auxiliary, destination, source)\n",
    "        return moves\n",
    "\n",
    "# Example\n",
    "n = 3  # Number of disks\n",
    "source = \"Rod 1\"\n",
    "destination = \"Rod 3\"\n",
    "auxiliary = \"Rod 2\"\n",
    "\n",
    "total_moves = tower_of_hanoi(n, source, destination, auxiliary)\n",
    "print(\"Total moves:\", total_moves)\n"
   ]
  },
  {
   "cell_type": "code",
   "execution_count": null,
   "id": "7764fd84",
   "metadata": {},
   "outputs": [],
   "source": []
  },
  {
   "cell_type": "markdown",
   "id": "2119f21f",
   "metadata": {},
   "source": [
    "<aside>\n",
    "💡 **Question 7**\n",
    "\n",
    "Given a string **str**, the task is to print all the permutations of **str**. A **permutation** is an arrangement of all or part of a set of objects, with regard to the order of the arrangement. For instance, the words ‘bat’ and ‘tab’ represents two distinct permutation (or arrangements) of a similar three letter word.\n",
    "\n",
    "**Examples:**\n",
    "\n",
    "> Input: str = “cd”\n",
    "> \n",
    "> \n",
    "> **Output:** cd dc\n",
    "> \n",
    "> **Input:** str = “abb”\n",
    "> \n",
    "> **Output:** abb abb bab bba bab bba\n",
    "> \n",
    "</aside>"
   ]
  },
  {
   "cell_type": "code",
   "execution_count": 69,
   "id": "fc62edc7",
   "metadata": {},
   "outputs": [
    {
     "name": "stdout",
     "output_type": "stream",
     "text": [
      "cd\n",
      "dc\n",
      "abb\n",
      "abb\n",
      "bab\n",
      "bba\n",
      "bba\n",
      "bab\n"
     ]
    }
   ],
   "source": [
    "def permutations(string):\n",
    "    # Convert the string to a list of characters\n",
    "    chars = list(string)\n",
    "    n = len(chars)\n",
    "    \n",
    "    # Helper function to generate permutations\n",
    "    def generate_permutations(start):\n",
    "        # Base case: If we have reached the last character, print the current permutation\n",
    "        if start == n - 1:\n",
    "            print(''.join(chars))\n",
    "            return\n",
    "        \n",
    "        # Iterate through the remaining characters\n",
    "        for i in range(start, n):\n",
    "            # Swap the current character with the character at index 'start'\n",
    "            chars[start], chars[i] = chars[i], chars[start]\n",
    "            \n",
    "            # Recursively generate permutations for the remaining characters\n",
    "            generate_permutations(start + 1)\n",
    "            \n",
    "            # Undo the swap to backtrack and try the next character\n",
    "            chars[start], chars[i] = chars[i], chars[start]\n",
    "    \n",
    "    # Start generating permutations from index 0\n",
    "    generate_permutations(0)\n",
    "\n",
    "# Examples\n",
    "string1 = \"cd\"\n",
    "permutations(string1)  # Output: cd dc\n",
    "\n",
    "string2 = \"abb\"\n",
    "permutations(string2)  # Output: abb abb bab bba bab bba\n"
   ]
  },
  {
   "cell_type": "code",
   "execution_count": null,
   "id": "1e99119e",
   "metadata": {},
   "outputs": [],
   "source": []
  },
  {
   "cell_type": "markdown",
   "id": "55368226",
   "metadata": {},
   "source": [
    "<aside>\n",
    "💡 **Question 8**\n",
    "\n",
    "Given a string, count total number of consonants in it. A consonant is an English alphabet character that is not vowel (a, e, i, o and u). Examples of constants are b, c, d, f, and g.\n",
    "\n",
    "**Examples :**\n",
    "\n",
    "</aside>"
   ]
  },
  {
   "cell_type": "code",
   "execution_count": 76,
   "id": "3ed1e347",
   "metadata": {},
   "outputs": [
    {
     "name": "stdout",
     "output_type": "stream",
     "text": [
      "1\n"
     ]
    }
   ],
   "source": [
    "def total_number_of_consonants(string):\n",
    "    \n",
    "    consonants = \"bcdfghjklmnpqrstvwxyzBCDFGHJKLMNPQRSTVWXYZ\"\n",
    "    count = 0\n",
    "    \n",
    "    for i in string:\n",
    "        if i in consonants:\n",
    "            count +=1\n",
    "            \n",
    "            return count\n",
    "\n",
    "\n",
    "\n",
    "\n",
    "Input = \"geeksforgeeks portal\"\n",
    "print(total_number_of_consonants(Input))\n",
    "\n"
   ]
  },
  {
   "cell_type": "code",
   "execution_count": null,
   "id": "890aa4d1",
   "metadata": {},
   "outputs": [],
   "source": []
  }
 ],
 "metadata": {
  "kernelspec": {
   "display_name": "Python 3",
   "language": "python",
   "name": "python3"
  },
  "language_info": {
   "codemirror_mode": {
    "name": "ipython",
    "version": 3
   },
   "file_extension": ".py",
   "mimetype": "text/x-python",
   "name": "python",
   "nbconvert_exporter": "python",
   "pygments_lexer": "ipython3",
   "version": "3.8.8"
  }
 },
 "nbformat": 4,
 "nbformat_minor": 5
}
